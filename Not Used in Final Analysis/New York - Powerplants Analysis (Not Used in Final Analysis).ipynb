{
 "cells": [
  {
   "cell_type": "markdown",
   "id": "8eda5db7-ef95-4917-8b04-ee2fb6afba62",
   "metadata": {},
   "source": [
    "# EDA on New York Power Plants Data"
   ]
  },
  {
   "cell_type": "code",
   "execution_count": 12,
   "id": "4af36d7c-d520-44b4-95d1-4cb7ac2b1a3a",
   "metadata": {},
   "outputs": [
    {
     "name": "stdout",
     "output_type": "stream",
     "text": [
      "The rpy2.ipython extension is already loaded. To reload it, use:\n",
      "  %reload_ext rpy2.ipython\n",
      "The autoreload extension is already loaded. To reload it, use:\n",
      "  %reload_ext autoreload\n"
     ]
    }
   ],
   "source": [
    "%load_ext rpy2.ipython\n",
    "%load_ext autoreload\n",
    "%autoreload 2\n",
    "\n",
    "%matplotlib inline  \n",
    "from matplotlib import rcParams\n",
    "rcParams['figure.figsize'] = (16, 100)\n",
    "\n",
    "import warnings\n",
    "from rpy2.rinterface import RRuntimeWarning\n",
    "warnings.filterwarnings(\"ignore\") # Ignore all warnings\n",
    "# warnings.filterwarnings(\"ignore\", category=RRuntimeWarning) # Show some warnings\n",
    "\n",
    "import pandas as pd\n",
    "import numpy as np\n",
    "import matplotlib.pyplot as plt\n",
    "from IPython.display import display, HTML"
   ]
  },
  {
   "cell_type": "code",
   "execution_count": 13,
   "id": "2db779c2-25a4-490b-a460-4a6014e7bdc1",
   "metadata": {
    "scrolled": true
   },
   "outputs": [
    {
     "data": {
      "application/javascript": [
       "// Disable auto-scrolling\n",
       "IPython.OutputArea.prototype._should_scroll = function(lines) {\n",
       "    return false;\n",
       "}\n"
      ],
      "text/plain": [
       "<IPython.core.display.Javascript object>"
      ]
     },
     "metadata": {},
     "output_type": "display_data"
    }
   ],
   "source": [
    "%%javascript\n",
    "// Disable auto-scrolling\n",
    "IPython.OutputArea.prototype._should_scroll = function(lines) {\n",
    "    return false;\n",
    "}"
   ]
  },
  {
   "cell_type": "code",
   "execution_count": 14,
   "id": "b0597250-9da1-4b85-80b6-54e04f3ad0c2",
   "metadata": {},
   "outputs": [],
   "source": [
    "%%R\n",
    "\n",
    "require('tidyverse')\n",
    "require('DescTools')"
   ]
  },
  {
   "cell_type": "code",
   "execution_count": 40,
   "id": "bf384e31-b2fd-4985-a3d1-4b899eb250d6",
   "metadata": {},
   "outputs": [
    {
     "data": {
      "text/html": [
       "<div>\n",
       "<style scoped>\n",
       "    .dataframe tbody tr th:only-of-type {\n",
       "        vertical-align: middle;\n",
       "    }\n",
       "\n",
       "    .dataframe tbody tr th {\n",
       "        vertical-align: top;\n",
       "    }\n",
       "\n",
       "    .dataframe thead th {\n",
       "        text-align: right;\n",
       "    }\n",
       "</style>\n",
       "<table border=\"1\" class=\"dataframe\">\n",
       "  <thead>\n",
       "    <tr style=\"text-align: right;\">\n",
       "      <th></th>\n",
       "      <th>Unnamed: 0.2</th>\n",
       "      <th>STATEFP</th>\n",
       "      <th>COUNTYFP</th>\n",
       "      <th>TRACTCE</th>\n",
       "      <th>AFFGEOID</th>\n",
       "      <th>GEOID</th>\n",
       "      <th>GEOID_2020</th>\n",
       "      <th>COUNTY_x</th>\n",
       "      <th>StateDesc</th>\n",
       "      <th>STATEABBR</th>\n",
       "      <th>...</th>\n",
       "      <th>State_y</th>\n",
       "      <th>Assistance Listing</th>\n",
       "      <th>Program</th>\n",
       "      <th>Investment Category</th>\n",
       "      <th>Website Url</th>\n",
       "      <th>Announcement Url</th>\n",
       "      <th>Data Extract Date</th>\n",
       "      <th>STATE_y</th>\n",
       "      <th>COUNTY</th>\n",
       "      <th>TRACT_y</th>\n",
       "    </tr>\n",
       "  </thead>\n",
       "  <tbody>\n",
       "    <tr>\n",
       "      <th>0</th>\n",
       "      <td>0</td>\n",
       "      <td>1</td>\n",
       "      <td>1</td>\n",
       "      <td>20804</td>\n",
       "      <td>140000US01001020804</td>\n",
       "      <td>1001020804</td>\n",
       "      <td>1001020804</td>\n",
       "      <td>Autauga County</td>\n",
       "      <td>Alabama</td>\n",
       "      <td>AL</td>\n",
       "      <td>...</td>\n",
       "      <td>NaN</td>\n",
       "      <td>NaN</td>\n",
       "      <td>NaN</td>\n",
       "      <td>NaN</td>\n",
       "      <td>NaN</td>\n",
       "      <td>NaN</td>\n",
       "      <td>NaN</td>\n",
       "      <td>NaN</td>\n",
       "      <td>NaN</td>\n",
       "      <td>NaN</td>\n",
       "    </tr>\n",
       "    <tr>\n",
       "      <th>1</th>\n",
       "      <td>1</td>\n",
       "      <td>1</td>\n",
       "      <td>3</td>\n",
       "      <td>10706</td>\n",
       "      <td>140000US01003010706</td>\n",
       "      <td>1003010706</td>\n",
       "      <td>1003010706</td>\n",
       "      <td>Baldwin County</td>\n",
       "      <td>Alabama</td>\n",
       "      <td>AL</td>\n",
       "      <td>...</td>\n",
       "      <td>NaN</td>\n",
       "      <td>NaN</td>\n",
       "      <td>NaN</td>\n",
       "      <td>NaN</td>\n",
       "      <td>NaN</td>\n",
       "      <td>NaN</td>\n",
       "      <td>NaN</td>\n",
       "      <td>NaN</td>\n",
       "      <td>NaN</td>\n",
       "      <td>NaN</td>\n",
       "    </tr>\n",
       "    <tr>\n",
       "      <th>2</th>\n",
       "      <td>2</td>\n",
       "      <td>1</td>\n",
       "      <td>3</td>\n",
       "      <td>11503</td>\n",
       "      <td>140000US01003011503</td>\n",
       "      <td>1003011503</td>\n",
       "      <td>1003011503</td>\n",
       "      <td>Baldwin County</td>\n",
       "      <td>Alabama</td>\n",
       "      <td>AL</td>\n",
       "      <td>...</td>\n",
       "      <td>NaN</td>\n",
       "      <td>NaN</td>\n",
       "      <td>NaN</td>\n",
       "      <td>NaN</td>\n",
       "      <td>NaN</td>\n",
       "      <td>NaN</td>\n",
       "      <td>NaN</td>\n",
       "      <td>NaN</td>\n",
       "      <td>NaN</td>\n",
       "      <td>NaN</td>\n",
       "    </tr>\n",
       "    <tr>\n",
       "      <th>3</th>\n",
       "      <td>3</td>\n",
       "      <td>1</td>\n",
       "      <td>3</td>\n",
       "      <td>11604</td>\n",
       "      <td>140000US01003011604</td>\n",
       "      <td>1003011604</td>\n",
       "      <td>1003011604</td>\n",
       "      <td>Baldwin County</td>\n",
       "      <td>Alabama</td>\n",
       "      <td>AL</td>\n",
       "      <td>...</td>\n",
       "      <td>NaN</td>\n",
       "      <td>NaN</td>\n",
       "      <td>NaN</td>\n",
       "      <td>NaN</td>\n",
       "      <td>NaN</td>\n",
       "      <td>NaN</td>\n",
       "      <td>NaN</td>\n",
       "      <td>NaN</td>\n",
       "      <td>NaN</td>\n",
       "      <td>NaN</td>\n",
       "    </tr>\n",
       "    <tr>\n",
       "      <th>4</th>\n",
       "      <td>4</td>\n",
       "      <td>1</td>\n",
       "      <td>5</td>\n",
       "      <td>950100</td>\n",
       "      <td>140000US01005950100</td>\n",
       "      <td>1005950100</td>\n",
       "      <td>1005950100</td>\n",
       "      <td>Barbour County</td>\n",
       "      <td>Alabama</td>\n",
       "      <td>AL</td>\n",
       "      <td>...</td>\n",
       "      <td>NaN</td>\n",
       "      <td>NaN</td>\n",
       "      <td>NaN</td>\n",
       "      <td>NaN</td>\n",
       "      <td>NaN</td>\n",
       "      <td>NaN</td>\n",
       "      <td>NaN</td>\n",
       "      <td>NaN</td>\n",
       "      <td>NaN</td>\n",
       "      <td>NaN</td>\n",
       "    </tr>\n",
       "  </tbody>\n",
       "</table>\n",
       "<p>5 rows × 222 columns</p>\n",
       "</div>"
      ],
      "text/plain": [
       "   Unnamed: 0.2  STATEFP  COUNTYFP  TRACTCE             AFFGEOID       GEOID  \\\n",
       "0             0        1         1    20804  140000US01001020804  1001020804   \n",
       "1             1        1         3    10706  140000US01003010706  1003010706   \n",
       "2             2        1         3    11503  140000US01003011503  1003011503   \n",
       "3             3        1         3    11604  140000US01003011604  1003011604   \n",
       "4             4        1         5   950100  140000US01005950100  1005950100   \n",
       "\n",
       "   GEOID_2020        COUNTY_x StateDesc STATEABBR  ... State_y  \\\n",
       "0  1001020804  Autauga County   Alabama        AL  ...     NaN   \n",
       "1  1003010706  Baldwin County   Alabama        AL  ...     NaN   \n",
       "2  1003011503  Baldwin County   Alabama        AL  ...     NaN   \n",
       "3  1003011604  Baldwin County   Alabama        AL  ...     NaN   \n",
       "4  1005950100  Barbour County   Alabama        AL  ...     NaN   \n",
       "\n",
       "   Assistance Listing   Program  Investment Category  Website Url  \\\n",
       "0                 NaN       NaN                  NaN          NaN   \n",
       "1                 NaN       NaN                  NaN          NaN   \n",
       "2                 NaN       NaN                  NaN          NaN   \n",
       "3                 NaN       NaN                  NaN          NaN   \n",
       "4                 NaN       NaN                  NaN          NaN   \n",
       "\n",
       "   Announcement Url  Data Extract Date  STATE_y  COUNTY  TRACT_y  \n",
       "0               NaN                NaN      NaN     NaN      NaN  \n",
       "1               NaN                NaN      NaN     NaN      NaN  \n",
       "2               NaN                NaN      NaN     NaN      NaN  \n",
       "3               NaN                NaN      NaN     NaN      NaN  \n",
       "4               NaN                NaN      NaN     NaN      NaN  \n",
       "\n",
       "[5 rows x 222 columns]"
      ]
     },
     "execution_count": 40,
     "metadata": {},
     "output_type": "execute_result"
    }
   ],
   "source": [
    "df = pd.read_csv('grants_merged_plants_eji.csv')\n",
    "df.head()"
   ]
  },
  {
   "cell_type": "code",
   "execution_count": 41,
   "id": "ff89f678-8856-4d60-8690-0f0a3f4c486c",
   "metadata": {},
   "outputs": [
    {
     "data": {
      "text/plain": [
       "(90906, 222)"
      ]
     },
     "execution_count": 41,
     "metadata": {},
     "output_type": "execute_result"
    }
   ],
   "source": [
    "df.shape"
   ]
  },
  {
   "cell_type": "code",
   "execution_count": 42,
   "id": "c52c4a28-bc3a-4489-ab28-5ad4368d51a1",
   "metadata": {},
   "outputs": [
    {
     "data": {
      "text/plain": [
       "9230"
      ]
     },
     "execution_count": 42,
     "metadata": {},
     "output_type": "execute_result"
    }
   ],
   "source": [
    "df['plant_name'].nunique()"
   ]
  },
  {
   "cell_type": "code",
   "execution_count": 43,
   "id": "a0962151-dcfe-47d0-8461-c2d48c035a03",
   "metadata": {},
   "outputs": [
    {
     "data": {
      "text/plain": [
       "1285602"
      ]
     },
     "execution_count": 43,
     "metadata": {},
     "output_type": "execute_result"
    }
   ],
   "source": [
    "df[df['StateDesc'] == 'New York'].size"
   ]
  },
  {
   "cell_type": "code",
   "execution_count": 44,
   "id": "1fe464ee-08c8-4c5b-b239-aa86e906decd",
   "metadata": {},
   "outputs": [],
   "source": [
    "ny = df[df['StateDesc'] == 'New York']"
   ]
  },
  {
   "cell_type": "code",
   "execution_count": 45,
   "id": "b09a9219-2924-4ae7-9c0b-16cca99d2978",
   "metadata": {},
   "outputs": [],
   "source": [
    "ny.to_csv('ny.csv')"
   ]
  },
  {
   "cell_type": "code",
   "execution_count": 46,
   "id": "7656a231-4d27-41a7-8efe-01f8afc2b983",
   "metadata": {},
   "outputs": [
    {
     "name": "stdout",
     "output_type": "stream",
     "text": [
      "New names:\n",
      "• `` -> `...1`\n",
      "# A tibble: 5,791 × 223\n",
      "    ...1 `Unnamed: 0.2` STATEFP COUNTYFP TRACTCE AFFGEOID       GEOID GEOID_2020\n",
      "   <dbl>          <dbl>   <dbl>    <dbl>   <dbl> <chr>          <dbl>      <dbl>\n",
      " 1 46645          46645      36        1     100 140000US360… 3.60e10    3.60e10\n",
      " 2 46646          46646      36        1    1902 140000US360… 3.60e10    3.60e10\n",
      " 3 46647          46647      36        1    2000 140000US360… 3.60e10    3.60e10\n",
      " 4 46648          46648      36        3  950500 140000US360… 3.60e10    3.60e10\n",
      " 5 46649          46649      36        3  950700 140000US360… 3.60e10    3.60e10\n",
      " 6 46650          46650      36        5    5100 140000US360… 3.60e10    3.60e10\n",
      " 7 47204          47204      36        5    7300 140000US360… 3.60e10    3.60e10\n",
      " 8 47205          47205      36        5    7700 140000US360… 3.60e10    3.60e10\n",
      " 9 47206          47206      36        5    8500 140000US360… 3.60e10    3.60e10\n",
      "10 47207          47207      36        5   15700 140000US360… 3.60e10    3.60e10\n",
      "# ℹ 5,781 more rows\n",
      "# ℹ 215 more variables: COUNTY_x <chr>, StateDesc <chr>, STATEABBR <chr>,\n",
      "#   LOCATION <chr>, E_TOTPOP <dbl>, M_TOTPOP <dbl>, E_DAYPOP <dbl>,\n",
      "#   SPL_EJI <dbl>, RPL_EJI <dbl>, SPL_SER <dbl>, RPL_SER <dbl>,\n",
      "#   SPL_EJI_CBM <dbl>, RPL_EJI_CBM <dbl>, E_MINRTY <dbl>, EPL_MINRTY <dbl>,\n",
      "#   SPL_SVM_DOM1 <dbl>, RPL_SVM_DOM1 <dbl>, E_POV200 <dbl>, EPL_POV200 <dbl>,\n",
      "#   E_NOHSDP <dbl>, EPL_NOHSDP <dbl>, E_UNEMP <dbl>, EPL_UNEMP <dbl>, …\n",
      "# ℹ Use `print(n = ...)` to see more rows, and `colnames()` to see all variable names\n"
     ]
    }
   ],
   "source": [
    "%%R\n",
    " \n",
    "# Import data with R\n",
    "df <- read_csv('ny.csv', show_col_types = FALSE)\n",
    "df"
   ]
  },
  {
   "cell_type": "code",
   "execution_count": 47,
   "id": "67887985-b47d-4643-8ae1-64b0c3266fd4",
   "metadata": {},
   "outputs": [
    {
     "name": "stdout",
     "output_type": "stream",
     "text": [
      "`geom_smooth()` using formula = 'y ~ x'\n"
     ]
    },
    {
     "name": "stderr",
     "output_type": "stream",
     "text": [
      "R[write to console]: In addition: \n",
      "R[write to console]: Warning messages:\n",
      "\n",
      "R[write to console]: 1: Removed 128 rows containing non-finite outside the scale range\n",
      "(`stat_smooth()`). \n",
      "\n",
      "R[write to console]: 2: Removed 128 rows containing missing values or values outside the scale range\n",
      "(`geom_point()`). \n",
      "\n"
     ]
    },
    {
     "data": {
      "image/png": "[encoded data removed]",
      "text/plain": [
       "<IPython.core.display.Image object>"
      ]
     },
     "metadata": {},
     "output_type": "display_data"
    }
   ],
   "source": [
    "%%R -w 1000\n",
    "\n",
    "ggplot(df) +\n",
    "    aes(x=fossil_fuels, y=E_POV200) +\n",
    "    geom_point() +\n",
    "    geom_smooth(method=\"lm\", se=TRUE, color=\"blue\") +\n",
    "    labs(title=str_wrap(\"[NOT FOR PUB] \", width=75), \n",
    "         subtitle=\"\", x=\"\", y=\"\")\n"
   ]
  },
  {
   "cell_type": "code",
   "execution_count": 48,
   "id": "4b44c91c-5d6a-4594-9fb0-bc49d85bee67",
   "metadata": {},
   "outputs": [
    {
     "name": "stderr",
     "output_type": "stream",
     "text": [
      "R[write to console]: In addition: \n",
      "R[write to console]: Warning message:\n",
      "\n",
      "R[write to console]: Removed 128 rows containing missing values or values outside the scale range\n",
      "(`geom_point()`). \n",
      "\n"
     ]
    },
    {
     "data": {
      "image/png": "[encoded data removed]",
      "text/plain": [
       "<IPython.core.display.Image object>"
      ]
     },
     "metadata": {},
     "output_type": "display_data"
    }
   ],
   "source": [
    "%%R -w 1000\n",
    "\n",
    "ggplot(df) +\n",
    "    aes(x=Category_Number, y=E_POV200) +\n",
    "    geom_point() +\n",
    "    labs(title=str_wrap(\"[NOT FOR PUB] \", width=75), \n",
    "         subtitle=\"\", x=\"\", y=\"\")\n"
   ]
  },
  {
   "cell_type": "code",
   "execution_count": 49,
   "id": "4b9f0ca9-f343-4816-9327-e7f810d82466",
   "metadata": {},
   "outputs": [
    {
     "name": "stdout",
     "output_type": "stream",
     "text": [
      "# A tibble: 10 × 2\n",
      "   Category_Number median_E_UNINSUR\n",
      "             <dbl>            <dbl>\n",
      " 1               0             4   \n",
      " 2               1             3.7 \n",
      " 3               2             3.85\n",
      " 4               3             4   \n",
      " 5               4             4.5 \n",
      " 6               5             3.9 \n",
      " 7               6             4.2 \n",
      " 8               7             3.25\n",
      " 9               8             3.2 \n",
      "10               9             2.5 \n"
     ]
    }
   ],
   "source": [
    "%%R\n",
    "\n",
    "library(dplyr)\n",
    "\n",
    "df %>%\n",
    "  group_by(Category_Number) %>%\n",
    "  summarise(median_E_UNINSUR = median(E_UNINSUR, na.rm = TRUE))"
   ]
  },
  {
   "cell_type": "code",
   "execution_count": 50,
   "id": "d0fd9718-3b7a-4d9a-b02d-9cb0af2bc7d2",
   "metadata": {},
   "outputs": [
    {
     "name": "stdout",
     "output_type": "stream",
     "text": [
      "# A tibble: 10 × 2\n",
      "   Category_Number median_AFAM\n",
      "             <dbl>       <dbl>\n",
      " 1               0        4.5 \n",
      " 2               1        1.95\n",
      " 3               2        2.2 \n",
      " 4               3        2.1 \n",
      " 5               4        1.55\n",
      " 6               5        1.2 \n",
      " 7               6        1.1 \n",
      " 8               7        0.5 \n",
      " 9               8        0.9 \n",
      "10               9        4   \n"
     ]
    }
   ],
   "source": [
    "%%R\n",
    "\n",
    "library(dplyr)\n",
    "\n",
    "df %>%\n",
    "  group_by(Category_Number) %>%\n",
    "  summarise(median_AFAM = median(E_AFAM, na.rm = TRUE))"
   ]
  },
  {
   "cell_type": "code",
   "execution_count": 51,
   "id": "912771e9-444f-4df3-8ac1-ac3a27994126",
   "metadata": {},
   "outputs": [
    {
     "name": "stdout",
     "output_type": "stream",
     "text": [
      "# A tibble: 10 × 2\n",
      "   Category_Number median_E_POV200\n",
      "             <dbl>           <dbl>\n",
      " 1               0            25.8\n",
      " 2               1            26.4\n",
      " 3               2            24.7\n",
      " 4               3            27.5\n",
      " 5               4            29.9\n",
      " 6               5            27.8\n",
      " 7               6            25.9\n",
      " 8               7            21.4\n",
      " 9               8            21.9\n",
      "10               9            27.0\n"
     ]
    }
   ],
   "source": [
    "%%R\n",
    "\n",
    "df %>%\n",
    "  group_by(Category_Number) %>%\n",
    "  summarise(median_E_POV200 = median(E_POV200, na.rm = TRUE))"
   ]
  },
  {
   "cell_type": "code",
   "execution_count": 52,
   "id": "50134aed-6e10-4abe-862d-7b1394b97044",
   "metadata": {},
   "outputs": [
    {
     "name": "stdout",
     "output_type": "stream",
     "text": [
      "# A tibble: 10 × 2\n",
      "   Category_Number median_E_CANCER\n",
      "             <dbl>           <dbl>\n",
      " 1               0            7.1 \n",
      " 2               1            9.3 \n",
      " 3               2            9.4 \n",
      " 4               3            8.7 \n",
      " 5               4            9.3 \n",
      " 6               5            9   \n",
      " 7               6            9   \n",
      " 8               7            9.65\n",
      " 9               8            8.9 \n",
      "10               9            8.2 \n"
     ]
    }
   ],
   "source": [
    "%%R\n",
    "\n",
    "df %>%\n",
    "  group_by(Category_Number) %>%\n",
    "  summarise(median_E_CANCER = median(E_CANCER, na.rm = TRUE))"
   ]
  },
  {
   "cell_type": "code",
   "execution_count": 53,
   "id": "a919a944-3d31-49ae-b53c-126371c9f98a",
   "metadata": {},
   "outputs": [
    {
     "name": "stdout",
     "output_type": "stream",
     "text": [
      "# A tibble: 10 × 2\n",
      "   Category_Number median_E_IMPWTR\n",
      "             <dbl>           <dbl>\n",
      " 1               0          0.67  \n",
      " 2               1          0.199 \n",
      " 3               2          0.178 \n",
      " 4               3          0.186 \n",
      " 5               4          0.182 \n",
      " 6               5          0.188 \n",
      " 7               6          0.125 \n",
      " 8               7          0.0705\n",
      " 9               8          0.023 \n",
      "10               9          0.017 \n"
     ]
    }
   ],
   "source": [
    "%%R\n",
    "\n",
    "df %>%\n",
    "  group_by(Category_Number) %>%\n",
    "  summarise(median_E_IMPWTR = median(E_IMPWTR, na.rm = TRUE))"
   ]
  },
  {
   "cell_type": "code",
   "execution_count": 54,
   "id": "40c7c567-c36a-47ac-9b40-0457f59e8fab",
   "metadata": {},
   "outputs": [
    {
     "name": "stdout",
     "output_type": "stream",
     "text": [
      "# A tibble: 10 × 2\n",
      "   Category_Number median_ASTHMA\n",
      "             <dbl>         <dbl>\n",
      " 1               0          10.4\n",
      " 2               1          11  \n",
      " 3               2          10.8\n",
      " 4               3          11  \n",
      " 5               4          11  \n",
      " 6               5          11.1\n",
      " 7               6          10.9\n",
      " 8               7          10.8\n",
      " 9               8          10.9\n",
      "10               9          11  \n"
     ]
    }
   ],
   "source": [
    "%%R\n",
    "\n",
    "df %>%\n",
    "  group_by(Category_Number) %>%\n",
    "  summarise(median_ASTHMA = median(E_ASTHMA, na.rm = TRUE))"
   ]
  },
  {
   "cell_type": "code",
   "execution_count": null,
   "id": "7f2018a5-04f9-490d-9e44-ada73e3f22e6",
   "metadata": {},
   "outputs": [],
   "source": [
    "%%R\n",
    "\n",
    "df %>%\n",
    "  group_by(Category_Number) %>%\n",
    "  summarise(median_discharge_volume_million_gallons = median(discharge_volume_million_gallons, na.rm = TRUE)) %>%\n",
    "    arrange(desc(median_discharge_volume_million_gallons))"
   ]
  },
  {
   "cell_type": "code",
   "execution_count": 56,
   "id": "2d05f7cd-528b-4f18-9746-29383b637d48",
   "metadata": {},
   "outputs": [
    {
     "name": "stderr",
     "output_type": "stream",
     "text": [
      "R[write to console]: In addition: \n",
      "R[write to console]: Warning message:\n",
      "\n",
      "R[write to console]: Removed 111 rows containing missing values or values outside the scale range\n",
      "(`geom_point()`). \n",
      "\n"
     ]
    },
    {
     "data": {
      "image/png": "[encoded data removed]",
      "text/plain": [
       "<IPython.core.display.Image object>"
      ]
     },
     "metadata": {},
     "output_type": "display_data"
    }
   ],
   "source": [
    "%%R -w 1000\n",
    "\n",
    "ggplot(df) +\n",
    "    aes(x=`Category_Number`, y=E_UNINSUR) +\n",
    "    geom_point() +\n",
    "    labs(title=str_wrap(\"[NOT FOR PUB] \", width=75), \n",
    "         subtitle=\"\", x=\"\", y=\"\")\n"
   ]
  },
  {
   "cell_type": "code",
   "execution_count": 57,
   "id": "28b2513f-b5bb-4b96-b833-146dcacf6afb",
   "metadata": {},
   "outputs": [
    {
     "name": "stdout",
     "output_type": "stream",
     "text": [
      "# weights:  80 (63 variable)\n",
      "initial  value 13005.000605 \n",
      "iter  10 value 6105.126597\n",
      "iter  20 value 5661.396385\n",
      "iter  30 value 5296.437530\n",
      "iter  40 value 4775.601183\n",
      "iter  50 value 3983.582398\n",
      "iter  60 value 3654.775589\n",
      "iter  70 value 3554.707952\n",
      "iter  80 value 3544.170377\n",
      "iter  90 value 3537.203514\n",
      "iter 100 value 3521.064459\n",
      "final  value 3521.064459 \n",
      "stopped after 100 iterations\n",
      "Call:\n",
      "multinom(formula = Category_Number ~ E_POV200 + E_UNINSUR + AFAM + \n",
      "    E_IMPWTR + E_CANCER + E_CHD, data = df)\n",
      "\n",
      "Coefficients:\n",
      "  (Intercept)     E_POV200    E_UNINSUR          AFAM   E_IMPWTR    E_CANCER\n",
      "1   -3.098448  0.010955637 -0.033578322 -4.966085e-04  -1.443429  0.14194507\n",
      "2   -5.591943  0.012307065 -0.007419607 -8.135314e-05  -1.599734  0.23541585\n",
      "3   -4.751380  0.016235385  0.011014277 -2.056811e-04  -1.679415  0.12491416\n",
      "4   -7.071360  0.035643483  0.032944060  2.578165e-05  -1.709453  0.40154661\n",
      "5   -5.783095  0.025491034  0.025333996 -2.813784e-04  -1.586114  0.21643811\n",
      "6   -4.631624 -0.012747374  0.039376322 -3.855466e-04  -2.032100  0.03048802\n",
      "7   -6.039062 -0.008905115  0.059798947 -4.314088e-03  -2.142163  0.22497531\n",
      "8   -6.464535  0.003574854 -0.195033374 -5.427276e-03 -21.286657  0.61785099\n",
      "9   -6.306172 -0.025877149 -0.363125523  8.635822e-05  -4.289032 -0.05339006\n",
      "         E_CHD\n",
      "1  0.018285605\n",
      "2  0.034082815\n",
      "3 -0.007181312\n",
      "4 -0.099701300\n",
      "5 -0.006151464\n",
      "6  0.122564398\n",
      "7  0.052580784\n",
      "8 -0.480776028\n",
      "9  0.405671590\n",
      "\n",
      "Std. Errors:\n",
      "  (Intercept)    E_POV200  E_UNINSUR         AFAM     E_IMPWTR   E_CANCER\n",
      "1  0.34797077 0.005995015 0.01543246 0.0001486623 0.1650502252 0.05157161\n",
      "2  0.64008843 0.010863290 0.02696798 0.0002228155 0.3256587117 0.08782350\n",
      "3  0.72578766 0.012190116 0.02560294 0.0002425984 0.3611641150 0.10794013\n",
      "4  0.67992540 0.011647023 0.02273256 0.0002312779 0.3571291077 0.09675044\n",
      "5  0.69181549 0.011045465 0.02251326 0.0002629703 0.3481782977 0.09454609\n",
      "6  0.90943583 0.016507263 0.02922817 0.0003790550 0.5026383433 0.12748214\n",
      "7  0.11652508 0.020584530 0.02991517 0.0020284762 0.6460540985 0.11526974\n",
      "8  0.05241664 0.073623081 0.27519518 0.0078203847 0.0003682379 0.46372416\n",
      "9  0.02771752 0.041482912 0.22064332 0.0010147389 0.0048422146 0.13161360\n",
      "       E_CHD\n",
      "1 0.06093431\n",
      "2 0.09288534\n",
      "3 0.12584237\n",
      "4 0.10898713\n",
      "5 0.09797026\n",
      "6 0.13533962\n",
      "7 0.18275621\n",
      "8 0.79201443\n",
      "9 0.20959042\n",
      "\n",
      "Residual Deviance: 7042.129 \n",
      "AIC: 7168.129 \n"
     ]
    }
   ],
   "source": [
    "%%R\n",
    "# Load the package\n",
    "library(nnet)\n",
    "\n",
    "# Convert the outcome to a factor\n",
    "df$Category_Number <- as.factor(df$Category_Number)\n",
    "\n",
    "# Fit the multinomial logistic regression model\n",
    "multi_logit <- multinom(Category_Number ~ E_POV200 + E_UNINSUR + AFAM + E_IMPWTR + E_CANCER + E_CHD, data = df)\n",
    "\n",
    "# View the summary\n",
    "summary(multi_logit)"
   ]
  },
  {
   "cell_type": "code",
   "execution_count": 58,
   "id": "abff9292-39a9-4cb1-ab4e-af14105cb880",
   "metadata": {},
   "outputs": [
    {
     "name": "stdout",
     "output_type": "stream",
     "text": [
      "   (Intercept)   E_POV200  E_UNINSUR         AFAM     E_IMPWTR     E_CANCER\n",
      "1 0.000000e+00 0.06763095 0.02956838 0.0008362309 0.000000e+00 0.0059162404\n",
      "2 0.000000e+00 0.25725455 0.78321903 0.7150260374 9.001340e-07 0.0073499844\n",
      "3 5.889533e-11 0.18291006 0.66705316 0.3965351621 3.319281e-06 0.2471685870\n",
      "4 0.000000e+00 0.00221109 0.14728126 0.9112398863 1.695870e-06 0.0000331991\n",
      "5 0.000000e+00 0.02100870 0.26046522 0.2846190033 5.226998e-06 0.0220657761\n",
      "6 3.527135e-07 0.43997928 0.17791434 0.3090936266 5.280161e-05 0.8109852024\n",
      "7 0.000000e+00 0.66529666 0.04561367 0.0334397890 9.139276e-04 0.0509703794\n",
      "8 0.000000e+00 0.96127301 0.47850491 0.4876878952 0.000000e+00 0.1827394658\n",
      "9 0.000000e+00 0.53275723 0.09981358 0.9321787976 0.000000e+00 0.6849941792\n",
      "       E_CHD\n",
      "1 0.76411067\n",
      "2 0.71366803\n",
      "3 0.95449267\n",
      "4 0.36029723\n",
      "5 0.94993445\n",
      "6 0.36514433\n",
      "7 0.77356875\n",
      "8 0.54383142\n",
      "9 0.05292351\n"
     ]
    }
   ],
   "source": [
    "%%R\n",
    "\n",
    "z <- summary(multi_logit)$coefficients / summary(multi_logit)$standard.errors\n",
    "p <- 2 * (1 - pnorm(abs(z)))\n",
    "p"
   ]
  },
  {
   "cell_type": "code",
   "execution_count": 59,
   "id": "7f20f2b4-57ce-4ffa-b3a3-370813e39c2c",
   "metadata": {},
   "outputs": [],
   "source": [
    "%%R\n",
    "\n",
    "odds_ratios <- exp(coef(multi_logit))"
   ]
  },
  {
   "cell_type": "code",
   "execution_count": 60,
   "id": "ac9ed3de-90ba-4b24-9e29-3716d3dea7af",
   "metadata": {},
   "outputs": [
    {
     "name": "stdout",
     "output_type": "stream",
     "text": [
      "   (Intercept)  E_POV200 E_UNINSUR      AFAM     E_IMPWTR  E_CANCER     E_CHD\n",
      "1 0.0451191875 1.0110159 0.9669792 0.9995035 2.361168e-01 1.1525133 1.0184538\n",
      "2 0.0037277761 1.0123831 0.9926079 0.9999187 2.019503e-01 1.2654349 1.0346703\n",
      "3 0.0086397679 1.0163679 1.0110752 0.9997943 1.864831e-01 1.1330512 0.9928444\n",
      "4 0.0008490779 1.0362863 1.0334927 1.0000258 1.809648e-01 1.4941338 0.9051077\n",
      "5 0.0030791708 1.0258187 1.0256576 0.9997187 2.047196e-01 1.2416462 0.9938674\n",
      "6 0.0097389321 0.9873335 1.0401618 0.9996145 1.310600e-01 1.0309575 1.1303919\n",
      "7 0.0023837948 0.9911344 1.0616231 0.9956952 1.174006e-01 1.2522918 1.0539877\n",
      "8 0.0015577149 1.0035813 0.8228072 0.9945874 5.692751e-10 1.8549375 0.6183034\n",
      "9 0.0018250069 0.9744548 0.6954991 1.0000864 1.371819e-02 0.9480102 1.5003098\n"
     ]
    }
   ],
   "source": [
    "%%R\n",
    "odds_ratios"
   ]
  },
  {
   "cell_type": "markdown",
   "id": "99e725f6-bff1-460f-961c-e45c942335ba",
   "metadata": {},
   "source": [
    "### E_CANCER has a significant positive effect across most models "
   ]
  },
  {
   "cell_type": "code",
   "execution_count": null,
   "id": "25dda750-ce43-45cc-b3a4-a2c6a4505f7c",
   "metadata": {},
   "outputs": [],
   "source": []
  }
 ],
 "metadata": {
  "kernelspec": {
   "display_name": "Python 3 (ipykernel)",
   "language": "python",
   "name": "python3"
  },
  "language_info": {
   "codemirror_mode": {
    "name": "ipython",
    "version": 3
   },
   "file_extension": ".py",
   "mimetype": "text/x-python",
   "name": "python",
   "nbconvert_exporter": "python",
   "pygments_lexer": "ipython3",
   "version": "3.12.7"
  }
 },
 "nbformat": 4,
 "nbformat_minor": 5
}
