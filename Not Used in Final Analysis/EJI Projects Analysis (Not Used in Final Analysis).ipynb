{
 "cells": [
  {
   "cell_type": "markdown",
   "id": "3e5f66e5-341f-47f3-adcf-bca700f268cd",
   "metadata": {},
   "source": [
    "## EDA on Inflation Reduction Act Environmental Justice Projects Nationally "
   ]
  },
  {
   "cell_type": "code",
   "execution_count": 178,
   "id": "66573eb6-eea8-4ac6-98cf-39da5b62c2e7",
   "metadata": {},
   "outputs": [
    {
     "name": "stdout",
     "output_type": "stream",
     "text": [
      "The rpy2.ipython extension is already loaded. To reload it, use:\n",
      "  %reload_ext rpy2.ipython\n",
      "The autoreload extension is already loaded. To reload it, use:\n",
      "  %reload_ext autoreload\n"
     ]
    }
   ],
   "source": [
    "%load_ext rpy2.ipython\n",
    "%load_ext autoreload\n",
    "%autoreload 2\n",
    "\n",
    "%matplotlib inline  \n",
    "from matplotlib import rcParams\n",
    "rcParams['figure.figsize'] = (16, 100)\n",
    "\n",
    "import warnings\n",
    "from rpy2.rinterface import RRuntimeWarning\n",
    "warnings.filterwarnings(\"ignore\") # Ignore all warnings\n",
    "# warnings.filterwarnings(\"ignore\", category=RRuntimeWarning) # Show some warnings\n",
    "\n",
    "import pandas as pd\n",
    "import numpy as np\n",
    "import matplotlib.pyplot as plt\n",
    "from IPython.display import display, HTML"
   ]
  },
  {
   "cell_type": "code",
   "execution_count": 179,
   "id": "3a7dbbe5-86a0-40f0-8ba4-a5c6b221f3d7",
   "metadata": {},
   "outputs": [
    {
     "data": {
      "application/javascript": [
       "// Disable auto-scrolling\n",
       "IPython.OutputArea.prototype._should_scroll = function(lines) {\n",
       "    return false;\n",
       "}\n"
      ],
      "text/plain": [
       "<IPython.core.display.Javascript object>"
      ]
     },
     "metadata": {},
     "output_type": "display_data"
    }
   ],
   "source": [
    "%%javascript\n",
    "// Disable auto-scrolling\n",
    "IPython.OutputArea.prototype._should_scroll = function(lines) {\n",
    "    return false;\n",
    "}"
   ]
  },
  {
   "cell_type": "code",
   "execution_count": 180,
   "id": "a8ff4072-4b17-4f6b-be84-fb047507c1f9",
   "metadata": {},
   "outputs": [],
   "source": [
    "%%R\n",
    "\n",
    "require('tidyverse')\n",
    "require('DescTools')"
   ]
  },
  {
   "cell_type": "code",
   "execution_count": 181,
   "id": "317e9bd0-5e31-40aa-9695-53c5b5bf9ffd",
   "metadata": {},
   "outputs": [
    {
     "data": {
      "text/html": [
       "<div>\n",
       "<style scoped>\n",
       "    .dataframe tbody tr th:only-of-type {\n",
       "        vertical-align: middle;\n",
       "    }\n",
       "\n",
       "    .dataframe tbody tr th {\n",
       "        vertical-align: top;\n",
       "    }\n",
       "\n",
       "    .dataframe thead th {\n",
       "        text-align: right;\n",
       "    }\n",
       "</style>\n",
       "<table border=\"1\" class=\"dataframe\">\n",
       "  <thead>\n",
       "    <tr style=\"text-align: right;\">\n",
       "      <th></th>\n",
       "      <th>STATEFP</th>\n",
       "      <th>COUNTYFP</th>\n",
       "      <th>TRACTCE</th>\n",
       "      <th>AFFGEOID</th>\n",
       "      <th>GEOID</th>\n",
       "      <th>GEOID_2020</th>\n",
       "      <th>COUNTY_x</th>\n",
       "      <th>StateDesc</th>\n",
       "      <th>STATEABBR</th>\n",
       "      <th>LOCATION</th>\n",
       "      <th>...</th>\n",
       "      <th>latitude</th>\n",
       "      <th>STATE</th>\n",
       "      <th>COUNTY_y</th>\n",
       "      <th>TRACT</th>\n",
       "      <th>contains_energy_source</th>\n",
       "      <th>Technology_Category</th>\n",
       "      <th>Category_Number</th>\n",
       "      <th>fossil_fuels</th>\n",
       "      <th>renewables</th>\n",
       "      <th>energy_category_numeric</th>\n",
       "    </tr>\n",
       "  </thead>\n",
       "  <tbody>\n",
       "    <tr>\n",
       "      <th>0</th>\n",
       "      <td>1</td>\n",
       "      <td>1</td>\n",
       "      <td>20804</td>\n",
       "      <td>140000US01001020804</td>\n",
       "      <td>1001020804</td>\n",
       "      <td>1001020804</td>\n",
       "      <td>Autauga County</td>\n",
       "      <td>Alabama</td>\n",
       "      <td>AL</td>\n",
       "      <td>Census Tract 208.04; Autauga County; Alabama</td>\n",
       "      <td>...</td>\n",
       "      <td>NaN</td>\n",
       "      <td>NaN</td>\n",
       "      <td>NaN</td>\n",
       "      <td>NaN</td>\n",
       "      <td>0</td>\n",
       "      <td>NaN</td>\n",
       "      <td>0</td>\n",
       "      <td>0</td>\n",
       "      <td>0</td>\n",
       "      <td>0.0</td>\n",
       "    </tr>\n",
       "    <tr>\n",
       "      <th>1</th>\n",
       "      <td>1</td>\n",
       "      <td>3</td>\n",
       "      <td>10706</td>\n",
       "      <td>140000US01003010706</td>\n",
       "      <td>1003010706</td>\n",
       "      <td>1003010706</td>\n",
       "      <td>Baldwin County</td>\n",
       "      <td>Alabama</td>\n",
       "      <td>AL</td>\n",
       "      <td>Census Tract 107.06; Baldwin County; Alabama</td>\n",
       "      <td>...</td>\n",
       "      <td>NaN</td>\n",
       "      <td>NaN</td>\n",
       "      <td>NaN</td>\n",
       "      <td>NaN</td>\n",
       "      <td>0</td>\n",
       "      <td>NaN</td>\n",
       "      <td>0</td>\n",
       "      <td>0</td>\n",
       "      <td>0</td>\n",
       "      <td>0.0</td>\n",
       "    </tr>\n",
       "    <tr>\n",
       "      <th>2</th>\n",
       "      <td>1</td>\n",
       "      <td>3</td>\n",
       "      <td>11503</td>\n",
       "      <td>140000US01003011503</td>\n",
       "      <td>1003011503</td>\n",
       "      <td>1003011503</td>\n",
       "      <td>Baldwin County</td>\n",
       "      <td>Alabama</td>\n",
       "      <td>AL</td>\n",
       "      <td>Census Tract 115.03; Baldwin County; Alabama</td>\n",
       "      <td>...</td>\n",
       "      <td>NaN</td>\n",
       "      <td>NaN</td>\n",
       "      <td>NaN</td>\n",
       "      <td>NaN</td>\n",
       "      <td>0</td>\n",
       "      <td>NaN</td>\n",
       "      <td>0</td>\n",
       "      <td>0</td>\n",
       "      <td>0</td>\n",
       "      <td>0.0</td>\n",
       "    </tr>\n",
       "    <tr>\n",
       "      <th>3</th>\n",
       "      <td>1</td>\n",
       "      <td>3</td>\n",
       "      <td>11604</td>\n",
       "      <td>140000US01003011604</td>\n",
       "      <td>1003011604</td>\n",
       "      <td>1003011604</td>\n",
       "      <td>Baldwin County</td>\n",
       "      <td>Alabama</td>\n",
       "      <td>AL</td>\n",
       "      <td>Census Tract 116.04; Baldwin County; Alabama</td>\n",
       "      <td>...</td>\n",
       "      <td>NaN</td>\n",
       "      <td>NaN</td>\n",
       "      <td>NaN</td>\n",
       "      <td>NaN</td>\n",
       "      <td>0</td>\n",
       "      <td>NaN</td>\n",
       "      <td>0</td>\n",
       "      <td>0</td>\n",
       "      <td>0</td>\n",
       "      <td>0.0</td>\n",
       "    </tr>\n",
       "    <tr>\n",
       "      <th>4</th>\n",
       "      <td>1</td>\n",
       "      <td>5</td>\n",
       "      <td>950100</td>\n",
       "      <td>140000US01005950100</td>\n",
       "      <td>1005950100</td>\n",
       "      <td>1005950100</td>\n",
       "      <td>Barbour County</td>\n",
       "      <td>Alabama</td>\n",
       "      <td>AL</td>\n",
       "      <td>Census Tract 9501; Barbour County; Alabama</td>\n",
       "      <td>...</td>\n",
       "      <td>NaN</td>\n",
       "      <td>NaN</td>\n",
       "      <td>NaN</td>\n",
       "      <td>NaN</td>\n",
       "      <td>0</td>\n",
       "      <td>NaN</td>\n",
       "      <td>0</td>\n",
       "      <td>0</td>\n",
       "      <td>0</td>\n",
       "      <td>0.0</td>\n",
       "    </tr>\n",
       "  </tbody>\n",
       "</table>\n",
       "<p>5 rows × 195 columns</p>\n",
       "</div>"
      ],
      "text/plain": [
       "   STATEFP  COUNTYFP  TRACTCE             AFFGEOID       GEOID  GEOID_2020  \\\n",
       "0        1         1    20804  140000US01001020804  1001020804  1001020804   \n",
       "1        1         3    10706  140000US01003010706  1003010706  1003010706   \n",
       "2        1         3    11503  140000US01003011503  1003011503  1003011503   \n",
       "3        1         3    11604  140000US01003011604  1003011604  1003011604   \n",
       "4        1         5   950100  140000US01005950100  1005950100  1005950100   \n",
       "\n",
       "         COUNTY_x StateDesc STATEABBR  \\\n",
       "0  Autauga County   Alabama        AL   \n",
       "1  Baldwin County   Alabama        AL   \n",
       "2  Baldwin County   Alabama        AL   \n",
       "3  Baldwin County   Alabama        AL   \n",
       "4  Barbour County   Alabama        AL   \n",
       "\n",
       "                                       LOCATION  ...  latitude  STATE  \\\n",
       "0  Census Tract 208.04; Autauga County; Alabama  ...       NaN    NaN   \n",
       "1  Census Tract 107.06; Baldwin County; Alabama  ...       NaN    NaN   \n",
       "2  Census Tract 115.03; Baldwin County; Alabama  ...       NaN    NaN   \n",
       "3  Census Tract 116.04; Baldwin County; Alabama  ...       NaN    NaN   \n",
       "4    Census Tract 9501; Barbour County; Alabama  ...       NaN    NaN   \n",
       "\n",
       "   COUNTY_y  TRACT  contains_energy_source  Technology_Category  \\\n",
       "0       NaN    NaN                       0                  NaN   \n",
       "1       NaN    NaN                       0                  NaN   \n",
       "2       NaN    NaN                       0                  NaN   \n",
       "3       NaN    NaN                       0                  NaN   \n",
       "4       NaN    NaN                       0                  NaN   \n",
       "\n",
       "   Category_Number  fossil_fuels  renewables  energy_category_numeric  \n",
       "0                0             0           0                      0.0  \n",
       "1                0             0           0                      0.0  \n",
       "2                0             0           0                      0.0  \n",
       "3                0             0           0                      0.0  \n",
       "4                0             0           0                      0.0  \n",
       "\n",
       "[5 rows x 195 columns]"
      ]
     },
     "execution_count": 181,
     "metadata": {},
     "output_type": "execute_result"
    }
   ],
   "source": [
    "df = pd.read_csv('plants_merged_eji.csv')\n",
    "df.head()"
   ]
  },
  {
   "cell_type": "code",
   "execution_count": 182,
   "id": "9b30781c-a028-4f30-a3a8-cc54f860b9db",
   "metadata": {},
   "outputs": [
    {
     "data": {
      "text/plain": [
       "(88364, 195)"
      ]
     },
     "execution_count": 182,
     "metadata": {},
     "output_type": "execute_result"
    }
   ],
   "source": [
    "df.shape"
   ]
  },
  {
   "cell_type": "code",
   "execution_count": 183,
   "id": "44f32f2f-362a-4d4b-bc94-eceeeed2a772",
   "metadata": {},
   "outputs": [],
   "source": [
    "df_grants = pd.read_csv('grants_with_geos.csv')"
   ]
  },
  {
   "cell_type": "code",
   "execution_count": 184,
   "id": "dcff59ac-107b-4c96-8c84-3cd91783927b",
   "metadata": {},
   "outputs": [
    {
     "data": {
      "text/html": [
       "<div>\n",
       "<style scoped>\n",
       "    .dataframe tbody tr th:only-of-type {\n",
       "        vertical-align: middle;\n",
       "    }\n",
       "\n",
       "    .dataframe tbody tr th {\n",
       "        vertical-align: top;\n",
       "    }\n",
       "\n",
       "    .dataframe thead th {\n",
       "        text-align: right;\n",
       "    }\n",
       "</style>\n",
       "<table border=\"1\" class=\"dataframe\">\n",
       "  <thead>\n",
       "    <tr style=\"text-align: right;\">\n",
       "      <th></th>\n",
       "      <th>Unnamed: 0</th>\n",
       "      <th>Announcement Date</th>\n",
       "      <th>Award Date</th>\n",
       "      <th>Project Title</th>\n",
       "      <th>Project Description</th>\n",
       "      <th>Recipient</th>\n",
       "      <th>Funding Source</th>\n",
       "      <th>Type of Award</th>\n",
       "      <th>Funding Status</th>\n",
       "      <th>Federal Award Identification Number</th>\n",
       "      <th>...</th>\n",
       "      <th>Assistance Listing</th>\n",
       "      <th>Program</th>\n",
       "      <th>Investment Category</th>\n",
       "      <th>Website Url</th>\n",
       "      <th>Announcement Url</th>\n",
       "      <th>Data Extract Date</th>\n",
       "      <th>GEOID</th>\n",
       "      <th>STATE</th>\n",
       "      <th>COUNTY</th>\n",
       "      <th>TRACT</th>\n",
       "    </tr>\n",
       "  </thead>\n",
       "  <tbody>\n",
       "    <tr>\n",
       "      <th>0</th>\n",
       "      <td>0</td>\n",
       "      <td>Date of announcement (for data on projects in ...</td>\n",
       "      <td>Date of award or rebate.</td>\n",
       "      <td>Descriptive title of the project.</td>\n",
       "      <td>Brief description of the project.</td>\n",
       "      <td>Name of recipient of the award.</td>\n",
       "      <td>Bipartisan Infrastructure Law (BIL) or Inflati...</td>\n",
       "      <td>Identifies if a grant is primary or sub-award.</td>\n",
       "      <td>Selected or Awarded.</td>\n",
       "      <td>Federal Award Identification Number (FAIN).</td>\n",
       "      <td>...</td>\n",
       "      <td>The Assistance Listing Number (formerly known ...</td>\n",
       "      <td>Bipartisan Infrastructure Law or Inflation Red...</td>\n",
       "      <td>Investment category (Climate Action, Air Inves...</td>\n",
       "      <td>URL containing more detailed information about...</td>\n",
       "      <td>URL containing press release (announcing fundi...</td>\n",
       "      <td>Date data extracted.</td>\n",
       "      <td>NaN</td>\n",
       "      <td>NaN</td>\n",
       "      <td>NaN</td>\n",
       "      <td>NaN</td>\n",
       "    </tr>\n",
       "    <tr>\n",
       "      <th>1</th>\n",
       "      <td>1</td>\n",
       "      <td>NaN</td>\n",
       "      <td>05-31-2023</td>\n",
       "      <td>Morrisonville CUSD 1</td>\n",
       "      <td>With funding from the Bipartisan Infrastructur...</td>\n",
       "      <td>Morrisonville Cusd 1</td>\n",
       "      <td>BIL</td>\n",
       "      <td>Primary</td>\n",
       "      <td>Awarded</td>\n",
       "      <td>NaN</td>\n",
       "      <td>...</td>\n",
       "      <td>NaN</td>\n",
       "      <td>Clean School Bus Rebates</td>\n",
       "      <td>Air Investments</td>\n",
       "      <td>https://www.epa.gov/cleanschoolbus/awarded-cle...</td>\n",
       "      <td>https://www.epa.gov/cleanschoolbus/awarded-cle...</td>\n",
       "      <td>01-31-2025</td>\n",
       "      <td>1.702196e+10</td>\n",
       "      <td>17.0</td>\n",
       "      <td>21.0</td>\n",
       "      <td>959000.0</td>\n",
       "    </tr>\n",
       "    <tr>\n",
       "      <th>2</th>\n",
       "      <td>2</td>\n",
       "      <td>NaN</td>\n",
       "      <td>01-07-2025</td>\n",
       "      <td>Saint Paul Island Renewable Energy Integration...</td>\n",
       "      <td>The purpose of this award is to provide fundin...</td>\n",
       "      <td>Aleut Community of Saint Paul Island</td>\n",
       "      <td>IRA</td>\n",
       "      <td>Primary</td>\n",
       "      <td>Awarded</td>\n",
       "      <td>84105401</td>\n",
       "      <td>...</td>\n",
       "      <td>66.046</td>\n",
       "      <td>CPRG - Implementation Grant</td>\n",
       "      <td>Climate Action</td>\n",
       "      <td>https://www.epa.gov/inflation-reduction-act/ab...</td>\n",
       "      <td>NaN</td>\n",
       "      <td>01-31-2025</td>\n",
       "      <td>2.016000e+09</td>\n",
       "      <td>2.0</td>\n",
       "      <td>16.0</td>\n",
       "      <td>100.0</td>\n",
       "    </tr>\n",
       "    <tr>\n",
       "      <th>3</th>\n",
       "      <td>3</td>\n",
       "      <td>NaN</td>\n",
       "      <td>07-10-2024</td>\n",
       "      <td>Cleanup Cooperative Agreement for City of West...</td>\n",
       "      <td>Brownfields are real property, the expansion, ...</td>\n",
       "      <td>CITY OF WESTBROOK</td>\n",
       "      <td>BIL</td>\n",
       "      <td>Primary</td>\n",
       "      <td>Awarded</td>\n",
       "      <td>00A01199</td>\n",
       "      <td>...</td>\n",
       "      <td>66.818</td>\n",
       "      <td>Brownfields Projects</td>\n",
       "      <td>Land Investments</td>\n",
       "      <td>https://www.epa.gov/brownfields/bipartisan-inf...</td>\n",
       "      <td>NaN</td>\n",
       "      <td>01-31-2025</td>\n",
       "      <td>2.300500e+10</td>\n",
       "      <td>23.0</td>\n",
       "      <td>5.0</td>\n",
       "      <td>2700.0</td>\n",
       "    </tr>\n",
       "    <tr>\n",
       "      <th>4</th>\n",
       "      <td>4</td>\n",
       "      <td>NaN</td>\n",
       "      <td>07-19-2023</td>\n",
       "      <td>Inflation Reduction Act &amp;ndash; Climate Pollut...</td>\n",
       "      <td>The purpose of this grant agreement is to prov...</td>\n",
       "      <td>Sacramento Metropolitan AQMD</td>\n",
       "      <td>IRA</td>\n",
       "      <td>Primary</td>\n",
       "      <td>Awarded</td>\n",
       "      <td>98T74301</td>\n",
       "      <td>...</td>\n",
       "      <td>66.046</td>\n",
       "      <td>CPRG - Planning Grant</td>\n",
       "      <td>Climate Action</td>\n",
       "      <td>https://www.epa.gov/inflation-reduction-act/ab...</td>\n",
       "      <td>NaN</td>\n",
       "      <td>01-31-2025</td>\n",
       "      <td>6.067009e+09</td>\n",
       "      <td>6.0</td>\n",
       "      <td>67.0</td>\n",
       "      <td>9332.0</td>\n",
       "    </tr>\n",
       "  </tbody>\n",
       "</table>\n",
       "<p>5 rows × 28 columns</p>\n",
       "</div>"
      ],
      "text/plain": [
       "   Unnamed: 0                                  Announcement Date  \\\n",
       "0           0  Date of announcement (for data on projects in ...   \n",
       "1           1                                                NaN   \n",
       "2           2                                                NaN   \n",
       "3           3                                                NaN   \n",
       "4           4                                                NaN   \n",
       "\n",
       "                 Award Date  \\\n",
       "0  Date of award or rebate.   \n",
       "1                05-31-2023   \n",
       "2                01-07-2025   \n",
       "3                07-10-2024   \n",
       "4                07-19-2023   \n",
       "\n",
       "                                       Project Title  \\\n",
       "0                  Descriptive title of the project.   \n",
       "1                               Morrisonville CUSD 1   \n",
       "2  Saint Paul Island Renewable Energy Integration...   \n",
       "3  Cleanup Cooperative Agreement for City of West...   \n",
       "4  Inflation Reduction Act &ndash; Climate Pollut...   \n",
       "\n",
       "                                 Project Description  \\\n",
       "0                  Brief description of the project.   \n",
       "1  With funding from the Bipartisan Infrastructur...   \n",
       "2  The purpose of this award is to provide fundin...   \n",
       "3  Brownfields are real property, the expansion, ...   \n",
       "4  The purpose of this grant agreement is to prov...   \n",
       "\n",
       "                              Recipient  \\\n",
       "0       Name of recipient of the award.   \n",
       "1                  Morrisonville Cusd 1   \n",
       "2  Aleut Community of Saint Paul Island   \n",
       "3                     CITY OF WESTBROOK   \n",
       "4          Sacramento Metropolitan AQMD   \n",
       "\n",
       "                                      Funding Source  \\\n",
       "0  Bipartisan Infrastructure Law (BIL) or Inflati...   \n",
       "1                                                BIL   \n",
       "2                                                IRA   \n",
       "3                                                BIL   \n",
       "4                                                IRA   \n",
       "\n",
       "                                    Type of Award        Funding Status  \\\n",
       "0  Identifies if a grant is primary or sub-award.  Selected or Awarded.   \n",
       "1                                         Primary               Awarded   \n",
       "2                                         Primary               Awarded   \n",
       "3                                         Primary               Awarded   \n",
       "4                                         Primary               Awarded   \n",
       "\n",
       "           Federal Award Identification Number  ...  \\\n",
       "0  Federal Award Identification Number (FAIN).  ...   \n",
       "1                                          NaN  ...   \n",
       "2                                     84105401  ...   \n",
       "3                                     00A01199  ...   \n",
       "4                                     98T74301  ...   \n",
       "\n",
       "                                  Assistance Listing  \\\n",
       "0  The Assistance Listing Number (formerly known ...   \n",
       "1                                                NaN   \n",
       "2                                             66.046   \n",
       "3                                             66.818   \n",
       "4                                             66.046   \n",
       "\n",
       "                                             Program  \\\n",
       "0  Bipartisan Infrastructure Law or Inflation Red...   \n",
       "1                           Clean School Bus Rebates   \n",
       "2                        CPRG - Implementation Grant   \n",
       "3                               Brownfields Projects   \n",
       "4                              CPRG - Planning Grant   \n",
       "\n",
       "                                 Investment Category  \\\n",
       "0  Investment category (Climate Action, Air Inves...   \n",
       "1                                    Air Investments   \n",
       "2                                     Climate Action   \n",
       "3                                   Land Investments   \n",
       "4                                     Climate Action   \n",
       "\n",
       "                                         Website Url  \\\n",
       "0  URL containing more detailed information about...   \n",
       "1  https://www.epa.gov/cleanschoolbus/awarded-cle...   \n",
       "2  https://www.epa.gov/inflation-reduction-act/ab...   \n",
       "3  https://www.epa.gov/brownfields/bipartisan-inf...   \n",
       "4  https://www.epa.gov/inflation-reduction-act/ab...   \n",
       "\n",
       "                                    Announcement Url     Data Extract Date  \\\n",
       "0  URL containing press release (announcing fundi...  Date data extracted.   \n",
       "1  https://www.epa.gov/cleanschoolbus/awarded-cle...            01-31-2025   \n",
       "2                                                NaN            01-31-2025   \n",
       "3                                                NaN            01-31-2025   \n",
       "4                                                NaN            01-31-2025   \n",
       "\n",
       "          GEOID STATE COUNTY     TRACT  \n",
       "0           NaN   NaN    NaN       NaN  \n",
       "1  1.702196e+10  17.0   21.0  959000.0  \n",
       "2  2.016000e+09   2.0   16.0     100.0  \n",
       "3  2.300500e+10  23.0    5.0    2700.0  \n",
       "4  6.067009e+09   6.0   67.0    9332.0  \n",
       "\n",
       "[5 rows x 28 columns]"
      ]
     },
     "execution_count": 184,
     "metadata": {},
     "output_type": "execute_result"
    }
   ],
   "source": [
    "df_grants.head()"
   ]
  },
  {
   "cell_type": "code",
   "execution_count": 185,
   "id": "8411f361-bf02-40bd-abeb-4c892e7e78df",
   "metadata": {},
   "outputs": [],
   "source": [
    "df_grants['GEOID'] = df_grants['GEOID'].apply(\n",
    "    lambda x: str(int(float(x))).zfill(11) if pd.notnull(x) else x\n",
    ")"
   ]
  },
  {
   "cell_type": "code",
   "execution_count": 186,
   "id": "841728b3-41ed-4148-8cfd-a0475522e6b1",
   "metadata": {},
   "outputs": [
    {
     "data": {
      "text/html": [
       "<div>\n",
       "<style scoped>\n",
       "    .dataframe tbody tr th:only-of-type {\n",
       "        vertical-align: middle;\n",
       "    }\n",
       "\n",
       "    .dataframe tbody tr th {\n",
       "        vertical-align: top;\n",
       "    }\n",
       "\n",
       "    .dataframe thead th {\n",
       "        text-align: right;\n",
       "    }\n",
       "</style>\n",
       "<table border=\"1\" class=\"dataframe\">\n",
       "  <thead>\n",
       "    <tr style=\"text-align: right;\">\n",
       "      <th></th>\n",
       "      <th>Unnamed: 0</th>\n",
       "      <th>Announcement Date</th>\n",
       "      <th>Award Date</th>\n",
       "      <th>Project Title</th>\n",
       "      <th>Project Description</th>\n",
       "      <th>Recipient</th>\n",
       "      <th>Funding Source</th>\n",
       "      <th>Type of Award</th>\n",
       "      <th>Funding Status</th>\n",
       "      <th>Federal Award Identification Number</th>\n",
       "      <th>...</th>\n",
       "      <th>Assistance Listing</th>\n",
       "      <th>Program</th>\n",
       "      <th>Investment Category</th>\n",
       "      <th>Website Url</th>\n",
       "      <th>Announcement Url</th>\n",
       "      <th>Data Extract Date</th>\n",
       "      <th>GEOID</th>\n",
       "      <th>STATE</th>\n",
       "      <th>COUNTY</th>\n",
       "      <th>TRACT</th>\n",
       "    </tr>\n",
       "  </thead>\n",
       "  <tbody>\n",
       "    <tr>\n",
       "      <th>0</th>\n",
       "      <td>0</td>\n",
       "      <td>Date of announcement (for data on projects in ...</td>\n",
       "      <td>Date of award or rebate.</td>\n",
       "      <td>Descriptive title of the project.</td>\n",
       "      <td>Brief description of the project.</td>\n",
       "      <td>Name of recipient of the award.</td>\n",
       "      <td>Bipartisan Infrastructure Law (BIL) or Inflati...</td>\n",
       "      <td>Identifies if a grant is primary or sub-award.</td>\n",
       "      <td>Selected or Awarded.</td>\n",
       "      <td>Federal Award Identification Number (FAIN).</td>\n",
       "      <td>...</td>\n",
       "      <td>The Assistance Listing Number (formerly known ...</td>\n",
       "      <td>Bipartisan Infrastructure Law or Inflation Red...</td>\n",
       "      <td>Investment category (Climate Action, Air Inves...</td>\n",
       "      <td>URL containing more detailed information about...</td>\n",
       "      <td>URL containing press release (announcing fundi...</td>\n",
       "      <td>Date data extracted.</td>\n",
       "      <td>NaN</td>\n",
       "      <td>NaN</td>\n",
       "      <td>NaN</td>\n",
       "      <td>NaN</td>\n",
       "    </tr>\n",
       "    <tr>\n",
       "      <th>1</th>\n",
       "      <td>1</td>\n",
       "      <td>NaN</td>\n",
       "      <td>05-31-2023</td>\n",
       "      <td>Morrisonville CUSD 1</td>\n",
       "      <td>With funding from the Bipartisan Infrastructur...</td>\n",
       "      <td>Morrisonville Cusd 1</td>\n",
       "      <td>BIL</td>\n",
       "      <td>Primary</td>\n",
       "      <td>Awarded</td>\n",
       "      <td>NaN</td>\n",
       "      <td>...</td>\n",
       "      <td>NaN</td>\n",
       "      <td>Clean School Bus Rebates</td>\n",
       "      <td>Air Investments</td>\n",
       "      <td>https://www.epa.gov/cleanschoolbus/awarded-cle...</td>\n",
       "      <td>https://www.epa.gov/cleanschoolbus/awarded-cle...</td>\n",
       "      <td>01-31-2025</td>\n",
       "      <td>17021959000</td>\n",
       "      <td>17.0</td>\n",
       "      <td>21.0</td>\n",
       "      <td>959000.0</td>\n",
       "    </tr>\n",
       "    <tr>\n",
       "      <th>2</th>\n",
       "      <td>2</td>\n",
       "      <td>NaN</td>\n",
       "      <td>01-07-2025</td>\n",
       "      <td>Saint Paul Island Renewable Energy Integration...</td>\n",
       "      <td>The purpose of this award is to provide fundin...</td>\n",
       "      <td>Aleut Community of Saint Paul Island</td>\n",
       "      <td>IRA</td>\n",
       "      <td>Primary</td>\n",
       "      <td>Awarded</td>\n",
       "      <td>84105401</td>\n",
       "      <td>...</td>\n",
       "      <td>66.046</td>\n",
       "      <td>CPRG - Implementation Grant</td>\n",
       "      <td>Climate Action</td>\n",
       "      <td>https://www.epa.gov/inflation-reduction-act/ab...</td>\n",
       "      <td>NaN</td>\n",
       "      <td>01-31-2025</td>\n",
       "      <td>02016000100</td>\n",
       "      <td>2.0</td>\n",
       "      <td>16.0</td>\n",
       "      <td>100.0</td>\n",
       "    </tr>\n",
       "    <tr>\n",
       "      <th>3</th>\n",
       "      <td>3</td>\n",
       "      <td>NaN</td>\n",
       "      <td>07-10-2024</td>\n",
       "      <td>Cleanup Cooperative Agreement for City of West...</td>\n",
       "      <td>Brownfields are real property, the expansion, ...</td>\n",
       "      <td>CITY OF WESTBROOK</td>\n",
       "      <td>BIL</td>\n",
       "      <td>Primary</td>\n",
       "      <td>Awarded</td>\n",
       "      <td>00A01199</td>\n",
       "      <td>...</td>\n",
       "      <td>66.818</td>\n",
       "      <td>Brownfields Projects</td>\n",
       "      <td>Land Investments</td>\n",
       "      <td>https://www.epa.gov/brownfields/bipartisan-inf...</td>\n",
       "      <td>NaN</td>\n",
       "      <td>01-31-2025</td>\n",
       "      <td>23005002700</td>\n",
       "      <td>23.0</td>\n",
       "      <td>5.0</td>\n",
       "      <td>2700.0</td>\n",
       "    </tr>\n",
       "    <tr>\n",
       "      <th>4</th>\n",
       "      <td>4</td>\n",
       "      <td>NaN</td>\n",
       "      <td>07-19-2023</td>\n",
       "      <td>Inflation Reduction Act &amp;ndash; Climate Pollut...</td>\n",
       "      <td>The purpose of this grant agreement is to prov...</td>\n",
       "      <td>Sacramento Metropolitan AQMD</td>\n",
       "      <td>IRA</td>\n",
       "      <td>Primary</td>\n",
       "      <td>Awarded</td>\n",
       "      <td>98T74301</td>\n",
       "      <td>...</td>\n",
       "      <td>66.046</td>\n",
       "      <td>CPRG - Planning Grant</td>\n",
       "      <td>Climate Action</td>\n",
       "      <td>https://www.epa.gov/inflation-reduction-act/ab...</td>\n",
       "      <td>NaN</td>\n",
       "      <td>01-31-2025</td>\n",
       "      <td>06067009332</td>\n",
       "      <td>6.0</td>\n",
       "      <td>67.0</td>\n",
       "      <td>9332.0</td>\n",
       "    </tr>\n",
       "  </tbody>\n",
       "</table>\n",
       "<p>5 rows × 28 columns</p>\n",
       "</div>"
      ],
      "text/plain": [
       "   Unnamed: 0                                  Announcement Date  \\\n",
       "0           0  Date of announcement (for data on projects in ...   \n",
       "1           1                                                NaN   \n",
       "2           2                                                NaN   \n",
       "3           3                                                NaN   \n",
       "4           4                                                NaN   \n",
       "\n",
       "                 Award Date  \\\n",
       "0  Date of award or rebate.   \n",
       "1                05-31-2023   \n",
       "2                01-07-2025   \n",
       "3                07-10-2024   \n",
       "4                07-19-2023   \n",
       "\n",
       "                                       Project Title  \\\n",
       "0                  Descriptive title of the project.   \n",
       "1                               Morrisonville CUSD 1   \n",
       "2  Saint Paul Island Renewable Energy Integration...   \n",
       "3  Cleanup Cooperative Agreement for City of West...   \n",
       "4  Inflation Reduction Act &ndash; Climate Pollut...   \n",
       "\n",
       "                                 Project Description  \\\n",
       "0                  Brief description of the project.   \n",
       "1  With funding from the Bipartisan Infrastructur...   \n",
       "2  The purpose of this award is to provide fundin...   \n",
       "3  Brownfields are real property, the expansion, ...   \n",
       "4  The purpose of this grant agreement is to prov...   \n",
       "\n",
       "                              Recipient  \\\n",
       "0       Name of recipient of the award.   \n",
       "1                  Morrisonville Cusd 1   \n",
       "2  Aleut Community of Saint Paul Island   \n",
       "3                     CITY OF WESTBROOK   \n",
       "4          Sacramento Metropolitan AQMD   \n",
       "\n",
       "                                      Funding Source  \\\n",
       "0  Bipartisan Infrastructure Law (BIL) or Inflati...   \n",
       "1                                                BIL   \n",
       "2                                                IRA   \n",
       "3                                                BIL   \n",
       "4                                                IRA   \n",
       "\n",
       "                                    Type of Award        Funding Status  \\\n",
       "0  Identifies if a grant is primary or sub-award.  Selected or Awarded.   \n",
       "1                                         Primary               Awarded   \n",
       "2                                         Primary               Awarded   \n",
       "3                                         Primary               Awarded   \n",
       "4                                         Primary               Awarded   \n",
       "\n",
       "           Federal Award Identification Number  ...  \\\n",
       "0  Federal Award Identification Number (FAIN).  ...   \n",
       "1                                          NaN  ...   \n",
       "2                                     84105401  ...   \n",
       "3                                     00A01199  ...   \n",
       "4                                     98T74301  ...   \n",
       "\n",
       "                                  Assistance Listing  \\\n",
       "0  The Assistance Listing Number (formerly known ...   \n",
       "1                                                NaN   \n",
       "2                                             66.046   \n",
       "3                                             66.818   \n",
       "4                                             66.046   \n",
       "\n",
       "                                             Program  \\\n",
       "0  Bipartisan Infrastructure Law or Inflation Red...   \n",
       "1                           Clean School Bus Rebates   \n",
       "2                        CPRG - Implementation Grant   \n",
       "3                               Brownfields Projects   \n",
       "4                              CPRG - Planning Grant   \n",
       "\n",
       "                                 Investment Category  \\\n",
       "0  Investment category (Climate Action, Air Inves...   \n",
       "1                                    Air Investments   \n",
       "2                                     Climate Action   \n",
       "3                                   Land Investments   \n",
       "4                                     Climate Action   \n",
       "\n",
       "                                         Website Url  \\\n",
       "0  URL containing more detailed information about...   \n",
       "1  https://www.epa.gov/cleanschoolbus/awarded-cle...   \n",
       "2  https://www.epa.gov/inflation-reduction-act/ab...   \n",
       "3  https://www.epa.gov/brownfields/bipartisan-inf...   \n",
       "4  https://www.epa.gov/inflation-reduction-act/ab...   \n",
       "\n",
       "                                    Announcement Url     Data Extract Date  \\\n",
       "0  URL containing press release (announcing fundi...  Date data extracted.   \n",
       "1  https://www.epa.gov/cleanschoolbus/awarded-cle...            01-31-2025   \n",
       "2                                                NaN            01-31-2025   \n",
       "3                                                NaN            01-31-2025   \n",
       "4                                                NaN            01-31-2025   \n",
       "\n",
       "         GEOID STATE COUNTY     TRACT  \n",
       "0          NaN   NaN    NaN       NaN  \n",
       "1  17021959000  17.0   21.0  959000.0  \n",
       "2  02016000100   2.0   16.0     100.0  \n",
       "3  23005002700  23.0    5.0    2700.0  \n",
       "4  06067009332   6.0   67.0    9332.0  \n",
       "\n",
       "[5 rows x 28 columns]"
      ]
     },
     "execution_count": 186,
     "metadata": {},
     "output_type": "execute_result"
    }
   ],
   "source": [
    "df_grants.head()"
   ]
  },
  {
   "cell_type": "code",
   "execution_count": 187,
   "id": "75908c30-a457-480d-aff3-0bb5696d3047",
   "metadata": {},
   "outputs": [],
   "source": [
    "df_grants = df_grants.drop(index=0).reset_index(drop=True)"
   ]
  },
  {
   "cell_type": "code",
   "execution_count": 188,
   "id": "bf32bc98-cea3-4d61-92a2-d692933d1146",
   "metadata": {},
   "outputs": [
    {
     "data": {
      "text/html": [
       "<div>\n",
       "<style scoped>\n",
       "    .dataframe tbody tr th:only-of-type {\n",
       "        vertical-align: middle;\n",
       "    }\n",
       "\n",
       "    .dataframe tbody tr th {\n",
       "        vertical-align: top;\n",
       "    }\n",
       "\n",
       "    .dataframe thead th {\n",
       "        text-align: right;\n",
       "    }\n",
       "</style>\n",
       "<table border=\"1\" class=\"dataframe\">\n",
       "  <thead>\n",
       "    <tr style=\"text-align: right;\">\n",
       "      <th></th>\n",
       "      <th>Unnamed: 0</th>\n",
       "      <th>Announcement Date</th>\n",
       "      <th>Award Date</th>\n",
       "      <th>Project Title</th>\n",
       "      <th>Project Description</th>\n",
       "      <th>Recipient</th>\n",
       "      <th>Funding Source</th>\n",
       "      <th>Type of Award</th>\n",
       "      <th>Funding Status</th>\n",
       "      <th>Federal Award Identification Number</th>\n",
       "      <th>...</th>\n",
       "      <th>Assistance Listing</th>\n",
       "      <th>Program</th>\n",
       "      <th>Investment Category</th>\n",
       "      <th>Website Url</th>\n",
       "      <th>Announcement Url</th>\n",
       "      <th>Data Extract Date</th>\n",
       "      <th>GEOID</th>\n",
       "      <th>STATE</th>\n",
       "      <th>COUNTY</th>\n",
       "      <th>TRACT</th>\n",
       "    </tr>\n",
       "  </thead>\n",
       "  <tbody>\n",
       "    <tr>\n",
       "      <th>0</th>\n",
       "      <td>1</td>\n",
       "      <td>NaN</td>\n",
       "      <td>05-31-2023</td>\n",
       "      <td>Morrisonville CUSD 1</td>\n",
       "      <td>With funding from the Bipartisan Infrastructur...</td>\n",
       "      <td>Morrisonville Cusd 1</td>\n",
       "      <td>BIL</td>\n",
       "      <td>Primary</td>\n",
       "      <td>Awarded</td>\n",
       "      <td>NaN</td>\n",
       "      <td>...</td>\n",
       "      <td>NaN</td>\n",
       "      <td>Clean School Bus Rebates</td>\n",
       "      <td>Air Investments</td>\n",
       "      <td>https://www.epa.gov/cleanschoolbus/awarded-cle...</td>\n",
       "      <td>https://www.epa.gov/cleanschoolbus/awarded-cle...</td>\n",
       "      <td>01-31-2025</td>\n",
       "      <td>17021959000</td>\n",
       "      <td>17.0</td>\n",
       "      <td>21.0</td>\n",
       "      <td>959000.0</td>\n",
       "    </tr>\n",
       "    <tr>\n",
       "      <th>1</th>\n",
       "      <td>2</td>\n",
       "      <td>NaN</td>\n",
       "      <td>01-07-2025</td>\n",
       "      <td>Saint Paul Island Renewable Energy Integration...</td>\n",
       "      <td>The purpose of this award is to provide fundin...</td>\n",
       "      <td>Aleut Community of Saint Paul Island</td>\n",
       "      <td>IRA</td>\n",
       "      <td>Primary</td>\n",
       "      <td>Awarded</td>\n",
       "      <td>84105401</td>\n",
       "      <td>...</td>\n",
       "      <td>66.046</td>\n",
       "      <td>CPRG - Implementation Grant</td>\n",
       "      <td>Climate Action</td>\n",
       "      <td>https://www.epa.gov/inflation-reduction-act/ab...</td>\n",
       "      <td>NaN</td>\n",
       "      <td>01-31-2025</td>\n",
       "      <td>02016000100</td>\n",
       "      <td>2.0</td>\n",
       "      <td>16.0</td>\n",
       "      <td>100.0</td>\n",
       "    </tr>\n",
       "    <tr>\n",
       "      <th>2</th>\n",
       "      <td>3</td>\n",
       "      <td>NaN</td>\n",
       "      <td>07-10-2024</td>\n",
       "      <td>Cleanup Cooperative Agreement for City of West...</td>\n",
       "      <td>Brownfields are real property, the expansion, ...</td>\n",
       "      <td>CITY OF WESTBROOK</td>\n",
       "      <td>BIL</td>\n",
       "      <td>Primary</td>\n",
       "      <td>Awarded</td>\n",
       "      <td>00A01199</td>\n",
       "      <td>...</td>\n",
       "      <td>66.818</td>\n",
       "      <td>Brownfields Projects</td>\n",
       "      <td>Land Investments</td>\n",
       "      <td>https://www.epa.gov/brownfields/bipartisan-inf...</td>\n",
       "      <td>NaN</td>\n",
       "      <td>01-31-2025</td>\n",
       "      <td>23005002700</td>\n",
       "      <td>23.0</td>\n",
       "      <td>5.0</td>\n",
       "      <td>2700.0</td>\n",
       "    </tr>\n",
       "    <tr>\n",
       "      <th>3</th>\n",
       "      <td>4</td>\n",
       "      <td>NaN</td>\n",
       "      <td>07-19-2023</td>\n",
       "      <td>Inflation Reduction Act &amp;ndash; Climate Pollut...</td>\n",
       "      <td>The purpose of this grant agreement is to prov...</td>\n",
       "      <td>Sacramento Metropolitan AQMD</td>\n",
       "      <td>IRA</td>\n",
       "      <td>Primary</td>\n",
       "      <td>Awarded</td>\n",
       "      <td>98T74301</td>\n",
       "      <td>...</td>\n",
       "      <td>66.046</td>\n",
       "      <td>CPRG - Planning Grant</td>\n",
       "      <td>Climate Action</td>\n",
       "      <td>https://www.epa.gov/inflation-reduction-act/ab...</td>\n",
       "      <td>NaN</td>\n",
       "      <td>01-31-2025</td>\n",
       "      <td>06067009332</td>\n",
       "      <td>6.0</td>\n",
       "      <td>67.0</td>\n",
       "      <td>9332.0</td>\n",
       "    </tr>\n",
       "    <tr>\n",
       "      <th>4</th>\n",
       "      <td>5</td>\n",
       "      <td>NaN</td>\n",
       "      <td>09-11-2023</td>\n",
       "      <td>Large Diameter Water Main Dead Ends Eliminatio...</td>\n",
       "      <td>This Bipartisan Infrastructure Law (BIL) (also...</td>\n",
       "      <td>DC Water and Sewer Authority</td>\n",
       "      <td>BIL</td>\n",
       "      <td>Primary</td>\n",
       "      <td>Awarded</td>\n",
       "      <td>95328501</td>\n",
       "      <td>...</td>\n",
       "      <td>66.468</td>\n",
       "      <td>Drinking Water State Revolving Fund</td>\n",
       "      <td>Water Investments</td>\n",
       "      <td>https://www.epa.gov/dwsrf</td>\n",
       "      <td>NaN</td>\n",
       "      <td>01-31-2025</td>\n",
       "      <td>11001004703</td>\n",
       "      <td>11.0</td>\n",
       "      <td>1.0</td>\n",
       "      <td>4703.0</td>\n",
       "    </tr>\n",
       "  </tbody>\n",
       "</table>\n",
       "<p>5 rows × 28 columns</p>\n",
       "</div>"
      ],
      "text/plain": [
       "   Unnamed: 0 Announcement Date  Award Date  \\\n",
       "0           1               NaN  05-31-2023   \n",
       "1           2               NaN  01-07-2025   \n",
       "2           3               NaN  07-10-2024   \n",
       "3           4               NaN  07-19-2023   \n",
       "4           5               NaN  09-11-2023   \n",
       "\n",
       "                                       Project Title  \\\n",
       "0                               Morrisonville CUSD 1   \n",
       "1  Saint Paul Island Renewable Energy Integration...   \n",
       "2  Cleanup Cooperative Agreement for City of West...   \n",
       "3  Inflation Reduction Act &ndash; Climate Pollut...   \n",
       "4  Large Diameter Water Main Dead Ends Eliminatio...   \n",
       "\n",
       "                                 Project Description  \\\n",
       "0  With funding from the Bipartisan Infrastructur...   \n",
       "1  The purpose of this award is to provide fundin...   \n",
       "2  Brownfields are real property, the expansion, ...   \n",
       "3  The purpose of this grant agreement is to prov...   \n",
       "4  This Bipartisan Infrastructure Law (BIL) (also...   \n",
       "\n",
       "                              Recipient Funding Source Type of Award  \\\n",
       "0                  Morrisonville Cusd 1            BIL       Primary   \n",
       "1  Aleut Community of Saint Paul Island            IRA       Primary   \n",
       "2                     CITY OF WESTBROOK            BIL       Primary   \n",
       "3          Sacramento Metropolitan AQMD            IRA       Primary   \n",
       "4          DC Water and Sewer Authority            BIL       Primary   \n",
       "\n",
       "  Funding Status Federal Award Identification Number  ... Assistance Listing  \\\n",
       "0        Awarded                                 NaN  ...                NaN   \n",
       "1        Awarded                            84105401  ...             66.046   \n",
       "2        Awarded                            00A01199  ...             66.818   \n",
       "3        Awarded                            98T74301  ...             66.046   \n",
       "4        Awarded                            95328501  ...             66.468   \n",
       "\n",
       "                               Program Investment Category  \\\n",
       "0             Clean School Bus Rebates     Air Investments   \n",
       "1          CPRG - Implementation Grant      Climate Action   \n",
       "2                 Brownfields Projects    Land Investments   \n",
       "3                CPRG - Planning Grant      Climate Action   \n",
       "4  Drinking Water State Revolving Fund   Water Investments   \n",
       "\n",
       "                                         Website Url  \\\n",
       "0  https://www.epa.gov/cleanschoolbus/awarded-cle...   \n",
       "1  https://www.epa.gov/inflation-reduction-act/ab...   \n",
       "2  https://www.epa.gov/brownfields/bipartisan-inf...   \n",
       "3  https://www.epa.gov/inflation-reduction-act/ab...   \n",
       "4                          https://www.epa.gov/dwsrf   \n",
       "\n",
       "                                    Announcement Url Data Extract Date  \\\n",
       "0  https://www.epa.gov/cleanschoolbus/awarded-cle...        01-31-2025   \n",
       "1                                                NaN        01-31-2025   \n",
       "2                                                NaN        01-31-2025   \n",
       "3                                                NaN        01-31-2025   \n",
       "4                                                NaN        01-31-2025   \n",
       "\n",
       "         GEOID STATE COUNTY     TRACT  \n",
       "0  17021959000  17.0   21.0  959000.0  \n",
       "1  02016000100   2.0   16.0     100.0  \n",
       "2  23005002700  23.0    5.0    2700.0  \n",
       "3  06067009332   6.0   67.0    9332.0  \n",
       "4  11001004703  11.0    1.0    4703.0  \n",
       "\n",
       "[5 rows x 28 columns]"
      ]
     },
     "execution_count": 188,
     "metadata": {},
     "output_type": "execute_result"
    }
   ],
   "source": [
    "df_grants.head()"
   ]
  },
  {
   "cell_type": "code",
   "execution_count": 189,
   "id": "1f901b8d-ec18-4b2c-83ce-04a1c5479638",
   "metadata": {},
   "outputs": [],
   "source": [
    "df_grants = df_grants.drop(columns=[\"Unnamed: 0\"])"
   ]
  },
  {
   "cell_type": "code",
   "execution_count": 190,
   "id": "f84f4548-e21c-481f-9a64-5ab3323ab4e5",
   "metadata": {},
   "outputs": [
    {
     "data": {
      "text/html": [
       "<div>\n",
       "<style scoped>\n",
       "    .dataframe tbody tr th:only-of-type {\n",
       "        vertical-align: middle;\n",
       "    }\n",
       "\n",
       "    .dataframe tbody tr th {\n",
       "        vertical-align: top;\n",
       "    }\n",
       "\n",
       "    .dataframe thead th {\n",
       "        text-align: right;\n",
       "    }\n",
       "</style>\n",
       "<table border=\"1\" class=\"dataframe\">\n",
       "  <thead>\n",
       "    <tr style=\"text-align: right;\">\n",
       "      <th></th>\n",
       "      <th>Announcement Date</th>\n",
       "      <th>Award Date</th>\n",
       "      <th>Project Title</th>\n",
       "      <th>Project Description</th>\n",
       "      <th>Recipient</th>\n",
       "      <th>Funding Source</th>\n",
       "      <th>Type of Award</th>\n",
       "      <th>Funding Status</th>\n",
       "      <th>Federal Award Identification Number</th>\n",
       "      <th>Award Amount</th>\n",
       "      <th>...</th>\n",
       "      <th>Assistance Listing</th>\n",
       "      <th>Program</th>\n",
       "      <th>Investment Category</th>\n",
       "      <th>Website Url</th>\n",
       "      <th>Announcement Url</th>\n",
       "      <th>Data Extract Date</th>\n",
       "      <th>GEOID</th>\n",
       "      <th>STATE</th>\n",
       "      <th>COUNTY</th>\n",
       "      <th>TRACT</th>\n",
       "    </tr>\n",
       "  </thead>\n",
       "  <tbody>\n",
       "    <tr>\n",
       "      <th>0</th>\n",
       "      <td>NaN</td>\n",
       "      <td>05-31-2023</td>\n",
       "      <td>Morrisonville CUSD 1</td>\n",
       "      <td>With funding from the Bipartisan Infrastructur...</td>\n",
       "      <td>Morrisonville Cusd 1</td>\n",
       "      <td>BIL</td>\n",
       "      <td>Primary</td>\n",
       "      <td>Awarded</td>\n",
       "      <td>NaN</td>\n",
       "      <td>790,000</td>\n",
       "      <td>...</td>\n",
       "      <td>NaN</td>\n",
       "      <td>Clean School Bus Rebates</td>\n",
       "      <td>Air Investments</td>\n",
       "      <td>https://www.epa.gov/cleanschoolbus/awarded-cle...</td>\n",
       "      <td>https://www.epa.gov/cleanschoolbus/awarded-cle...</td>\n",
       "      <td>01-31-2025</td>\n",
       "      <td>17021959000</td>\n",
       "      <td>17.0</td>\n",
       "      <td>21.0</td>\n",
       "      <td>959000.0</td>\n",
       "    </tr>\n",
       "    <tr>\n",
       "      <th>1</th>\n",
       "      <td>NaN</td>\n",
       "      <td>01-07-2025</td>\n",
       "      <td>Saint Paul Island Renewable Energy Integration...</td>\n",
       "      <td>The purpose of this award is to provide fundin...</td>\n",
       "      <td>Aleut Community of Saint Paul Island</td>\n",
       "      <td>IRA</td>\n",
       "      <td>Primary</td>\n",
       "      <td>Awarded</td>\n",
       "      <td>84105401</td>\n",
       "      <td>14,820,331</td>\n",
       "      <td>...</td>\n",
       "      <td>66.046</td>\n",
       "      <td>CPRG - Implementation Grant</td>\n",
       "      <td>Climate Action</td>\n",
       "      <td>https://www.epa.gov/inflation-reduction-act/ab...</td>\n",
       "      <td>NaN</td>\n",
       "      <td>01-31-2025</td>\n",
       "      <td>02016000100</td>\n",
       "      <td>2.0</td>\n",
       "      <td>16.0</td>\n",
       "      <td>100.0</td>\n",
       "    </tr>\n",
       "    <tr>\n",
       "      <th>2</th>\n",
       "      <td>NaN</td>\n",
       "      <td>07-10-2024</td>\n",
       "      <td>Cleanup Cooperative Agreement for City of West...</td>\n",
       "      <td>Brownfields are real property, the expansion, ...</td>\n",
       "      <td>CITY OF WESTBROOK</td>\n",
       "      <td>BIL</td>\n",
       "      <td>Primary</td>\n",
       "      <td>Awarded</td>\n",
       "      <td>00A01199</td>\n",
       "      <td>4,000,000</td>\n",
       "      <td>...</td>\n",
       "      <td>66.818</td>\n",
       "      <td>Brownfields Projects</td>\n",
       "      <td>Land Investments</td>\n",
       "      <td>https://www.epa.gov/brownfields/bipartisan-inf...</td>\n",
       "      <td>NaN</td>\n",
       "      <td>01-31-2025</td>\n",
       "      <td>23005002700</td>\n",
       "      <td>23.0</td>\n",
       "      <td>5.0</td>\n",
       "      <td>2700.0</td>\n",
       "    </tr>\n",
       "    <tr>\n",
       "      <th>3</th>\n",
       "      <td>NaN</td>\n",
       "      <td>07-19-2023</td>\n",
       "      <td>Inflation Reduction Act &amp;ndash; Climate Pollut...</td>\n",
       "      <td>The purpose of this grant agreement is to prov...</td>\n",
       "      <td>Sacramento Metropolitan AQMD</td>\n",
       "      <td>IRA</td>\n",
       "      <td>Primary</td>\n",
       "      <td>Awarded</td>\n",
       "      <td>98T74301</td>\n",
       "      <td>1,000,000</td>\n",
       "      <td>...</td>\n",
       "      <td>66.046</td>\n",
       "      <td>CPRG - Planning Grant</td>\n",
       "      <td>Climate Action</td>\n",
       "      <td>https://www.epa.gov/inflation-reduction-act/ab...</td>\n",
       "      <td>NaN</td>\n",
       "      <td>01-31-2025</td>\n",
       "      <td>06067009332</td>\n",
       "      <td>6.0</td>\n",
       "      <td>67.0</td>\n",
       "      <td>9332.0</td>\n",
       "    </tr>\n",
       "    <tr>\n",
       "      <th>4</th>\n",
       "      <td>NaN</td>\n",
       "      <td>09-11-2023</td>\n",
       "      <td>Large Diameter Water Main Dead Ends Eliminatio...</td>\n",
       "      <td>This Bipartisan Infrastructure Law (BIL) (also...</td>\n",
       "      <td>DC Water and Sewer Authority</td>\n",
       "      <td>BIL</td>\n",
       "      <td>Primary</td>\n",
       "      <td>Awarded</td>\n",
       "      <td>95328501</td>\n",
       "      <td>5,133,600</td>\n",
       "      <td>...</td>\n",
       "      <td>66.468</td>\n",
       "      <td>Drinking Water State Revolving Fund</td>\n",
       "      <td>Water Investments</td>\n",
       "      <td>https://www.epa.gov/dwsrf</td>\n",
       "      <td>NaN</td>\n",
       "      <td>01-31-2025</td>\n",
       "      <td>11001004703</td>\n",
       "      <td>11.0</td>\n",
       "      <td>1.0</td>\n",
       "      <td>4703.0</td>\n",
       "    </tr>\n",
       "  </tbody>\n",
       "</table>\n",
       "<p>5 rows × 27 columns</p>\n",
       "</div>"
      ],
      "text/plain": [
       "  Announcement Date  Award Date  \\\n",
       "0               NaN  05-31-2023   \n",
       "1               NaN  01-07-2025   \n",
       "2               NaN  07-10-2024   \n",
       "3               NaN  07-19-2023   \n",
       "4               NaN  09-11-2023   \n",
       "\n",
       "                                       Project Title  \\\n",
       "0                               Morrisonville CUSD 1   \n",
       "1  Saint Paul Island Renewable Energy Integration...   \n",
       "2  Cleanup Cooperative Agreement for City of West...   \n",
       "3  Inflation Reduction Act &ndash; Climate Pollut...   \n",
       "4  Large Diameter Water Main Dead Ends Eliminatio...   \n",
       "\n",
       "                                 Project Description  \\\n",
       "0  With funding from the Bipartisan Infrastructur...   \n",
       "1  The purpose of this award is to provide fundin...   \n",
       "2  Brownfields are real property, the expansion, ...   \n",
       "3  The purpose of this grant agreement is to prov...   \n",
       "4  This Bipartisan Infrastructure Law (BIL) (also...   \n",
       "\n",
       "                              Recipient Funding Source Type of Award  \\\n",
       "0                  Morrisonville Cusd 1            BIL       Primary   \n",
       "1  Aleut Community of Saint Paul Island            IRA       Primary   \n",
       "2                     CITY OF WESTBROOK            BIL       Primary   \n",
       "3          Sacramento Metropolitan AQMD            IRA       Primary   \n",
       "4          DC Water and Sewer Authority            BIL       Primary   \n",
       "\n",
       "  Funding Status Federal Award Identification Number      Award Amount  ...  \\\n",
       "0        Awarded                                 NaN           790,000  ...   \n",
       "1        Awarded                            84105401        14,820,331  ...   \n",
       "2        Awarded                            00A01199         4,000,000  ...   \n",
       "3        Awarded                            98T74301         1,000,000  ...   \n",
       "4        Awarded                            95328501         5,133,600  ...   \n",
       "\n",
       "  Assistance Listing                              Program Investment Category  \\\n",
       "0                NaN             Clean School Bus Rebates     Air Investments   \n",
       "1             66.046          CPRG - Implementation Grant      Climate Action   \n",
       "2             66.818                 Brownfields Projects    Land Investments   \n",
       "3             66.046                CPRG - Planning Grant      Climate Action   \n",
       "4             66.468  Drinking Water State Revolving Fund   Water Investments   \n",
       "\n",
       "                                         Website Url  \\\n",
       "0  https://www.epa.gov/cleanschoolbus/awarded-cle...   \n",
       "1  https://www.epa.gov/inflation-reduction-act/ab...   \n",
       "2  https://www.epa.gov/brownfields/bipartisan-inf...   \n",
       "3  https://www.epa.gov/inflation-reduction-act/ab...   \n",
       "4                          https://www.epa.gov/dwsrf   \n",
       "\n",
       "                                    Announcement Url Data Extract Date  \\\n",
       "0  https://www.epa.gov/cleanschoolbus/awarded-cle...        01-31-2025   \n",
       "1                                                NaN        01-31-2025   \n",
       "2                                                NaN        01-31-2025   \n",
       "3                                                NaN        01-31-2025   \n",
       "4                                                NaN        01-31-2025   \n",
       "\n",
       "         GEOID STATE COUNTY     TRACT  \n",
       "0  17021959000  17.0   21.0  959000.0  \n",
       "1  02016000100   2.0   16.0     100.0  \n",
       "2  23005002700  23.0    5.0    2700.0  \n",
       "3  06067009332   6.0   67.0    9332.0  \n",
       "4  11001004703  11.0    1.0    4703.0  \n",
       "\n",
       "[5 rows x 27 columns]"
      ]
     },
     "execution_count": 190,
     "metadata": {},
     "output_type": "execute_result"
    }
   ],
   "source": [
    "df_grants.head()"
   ]
  },
  {
   "cell_type": "code",
   "execution_count": 191,
   "id": "ff22b17c-942f-4c33-835f-53b1fdf01d19",
   "metadata": {},
   "outputs": [
    {
     "data": {
      "text/plain": [
       "(5225, 27)"
      ]
     },
     "execution_count": 191,
     "metadata": {},
     "output_type": "execute_result"
    }
   ],
   "source": [
    "df_grants.shape"
   ]
  },
  {
   "cell_type": "code",
   "execution_count": 192,
   "id": "403f4433-169d-4400-86a7-040a451f3613",
   "metadata": {},
   "outputs": [
    {
     "data": {
      "text/plain": [
       "4387"
      ]
     },
     "execution_count": 192,
     "metadata": {},
     "output_type": "execute_result"
    }
   ],
   "source": [
    "df_grants['Project Title'].nunique()"
   ]
  },
  {
   "cell_type": "code",
   "execution_count": 193,
   "id": "ddbce8fe-7c4f-4919-b059-1b639e178ede",
   "metadata": {},
   "outputs": [],
   "source": [
    "df[\"GEOID\"] = df[\"GEOID\"].astype(str)\n",
    "df_grants[\"GEOID\"] = df_grants[\"GEOID\"].astype(str)\n",
    "\n",
    "grants_merged = pd.merge(df, df_grants, on=\"GEOID\", how=\"left\")"
   ]
  },
  {
   "cell_type": "code",
   "execution_count": 194,
   "id": "c09d9701-417f-47ae-8bab-28cf32da7b50",
   "metadata": {},
   "outputs": [],
   "source": [
    "grants_merged.to_csv('grants_merged_plants_eji.csv')"
   ]
  },
  {
   "cell_type": "code",
   "execution_count": 195,
   "id": "0be181f6-dfe6-4be3-88d4-d44e133a90fe",
   "metadata": {},
   "outputs": [
    {
     "data": {
      "text/plain": [
       "(90906, 221)"
      ]
     },
     "execution_count": 195,
     "metadata": {},
     "output_type": "execute_result"
    }
   ],
   "source": [
    "grants_merged.shape"
   ]
  },
  {
   "cell_type": "code",
   "execution_count": 196,
   "id": "909d357f-1b80-4918-a28a-18d20b34c113",
   "metadata": {},
   "outputs": [
    {
     "data": {
      "text/html": [
       "<div>\n",
       "<style scoped>\n",
       "    .dataframe tbody tr th:only-of-type {\n",
       "        vertical-align: middle;\n",
       "    }\n",
       "\n",
       "    .dataframe tbody tr th {\n",
       "        vertical-align: top;\n",
       "    }\n",
       "\n",
       "    .dataframe thead th {\n",
       "        text-align: right;\n",
       "    }\n",
       "</style>\n",
       "<table border=\"1\" class=\"dataframe\">\n",
       "  <thead>\n",
       "    <tr style=\"text-align: right;\">\n",
       "      <th></th>\n",
       "      <th>STATEFP</th>\n",
       "      <th>COUNTYFP</th>\n",
       "      <th>TRACTCE</th>\n",
       "      <th>AFFGEOID</th>\n",
       "      <th>GEOID</th>\n",
       "      <th>GEOID_2020</th>\n",
       "      <th>COUNTY_x</th>\n",
       "      <th>StateDesc</th>\n",
       "      <th>STATEABBR</th>\n",
       "      <th>LOCATION</th>\n",
       "      <th>...</th>\n",
       "      <th>State_y</th>\n",
       "      <th>Assistance Listing</th>\n",
       "      <th>Program</th>\n",
       "      <th>Investment Category</th>\n",
       "      <th>Website Url</th>\n",
       "      <th>Announcement Url</th>\n",
       "      <th>Data Extract Date</th>\n",
       "      <th>STATE_y</th>\n",
       "      <th>COUNTY</th>\n",
       "      <th>TRACT_y</th>\n",
       "    </tr>\n",
       "  </thead>\n",
       "  <tbody>\n",
       "    <tr>\n",
       "      <th>0</th>\n",
       "      <td>1</td>\n",
       "      <td>1</td>\n",
       "      <td>20804</td>\n",
       "      <td>140000US01001020804</td>\n",
       "      <td>1001020804</td>\n",
       "      <td>1001020804</td>\n",
       "      <td>Autauga County</td>\n",
       "      <td>Alabama</td>\n",
       "      <td>AL</td>\n",
       "      <td>Census Tract 208.04; Autauga County; Alabama</td>\n",
       "      <td>...</td>\n",
       "      <td>NaN</td>\n",
       "      <td>NaN</td>\n",
       "      <td>NaN</td>\n",
       "      <td>NaN</td>\n",
       "      <td>NaN</td>\n",
       "      <td>NaN</td>\n",
       "      <td>NaN</td>\n",
       "      <td>NaN</td>\n",
       "      <td>NaN</td>\n",
       "      <td>NaN</td>\n",
       "    </tr>\n",
       "    <tr>\n",
       "      <th>1</th>\n",
       "      <td>1</td>\n",
       "      <td>3</td>\n",
       "      <td>10706</td>\n",
       "      <td>140000US01003010706</td>\n",
       "      <td>1003010706</td>\n",
       "      <td>1003010706</td>\n",
       "      <td>Baldwin County</td>\n",
       "      <td>Alabama</td>\n",
       "      <td>AL</td>\n",
       "      <td>Census Tract 107.06; Baldwin County; Alabama</td>\n",
       "      <td>...</td>\n",
       "      <td>NaN</td>\n",
       "      <td>NaN</td>\n",
       "      <td>NaN</td>\n",
       "      <td>NaN</td>\n",
       "      <td>NaN</td>\n",
       "      <td>NaN</td>\n",
       "      <td>NaN</td>\n",
       "      <td>NaN</td>\n",
       "      <td>NaN</td>\n",
       "      <td>NaN</td>\n",
       "    </tr>\n",
       "    <tr>\n",
       "      <th>2</th>\n",
       "      <td>1</td>\n",
       "      <td>3</td>\n",
       "      <td>11503</td>\n",
       "      <td>140000US01003011503</td>\n",
       "      <td>1003011503</td>\n",
       "      <td>1003011503</td>\n",
       "      <td>Baldwin County</td>\n",
       "      <td>Alabama</td>\n",
       "      <td>AL</td>\n",
       "      <td>Census Tract 115.03; Baldwin County; Alabama</td>\n",
       "      <td>...</td>\n",
       "      <td>NaN</td>\n",
       "      <td>NaN</td>\n",
       "      <td>NaN</td>\n",
       "      <td>NaN</td>\n",
       "      <td>NaN</td>\n",
       "      <td>NaN</td>\n",
       "      <td>NaN</td>\n",
       "      <td>NaN</td>\n",
       "      <td>NaN</td>\n",
       "      <td>NaN</td>\n",
       "    </tr>\n",
       "    <tr>\n",
       "      <th>3</th>\n",
       "      <td>1</td>\n",
       "      <td>3</td>\n",
       "      <td>11604</td>\n",
       "      <td>140000US01003011604</td>\n",
       "      <td>1003011604</td>\n",
       "      <td>1003011604</td>\n",
       "      <td>Baldwin County</td>\n",
       "      <td>Alabama</td>\n",
       "      <td>AL</td>\n",
       "      <td>Census Tract 116.04; Baldwin County; Alabama</td>\n",
       "      <td>...</td>\n",
       "      <td>NaN</td>\n",
       "      <td>NaN</td>\n",
       "      <td>NaN</td>\n",
       "      <td>NaN</td>\n",
       "      <td>NaN</td>\n",
       "      <td>NaN</td>\n",
       "      <td>NaN</td>\n",
       "      <td>NaN</td>\n",
       "      <td>NaN</td>\n",
       "      <td>NaN</td>\n",
       "    </tr>\n",
       "    <tr>\n",
       "      <th>4</th>\n",
       "      <td>1</td>\n",
       "      <td>5</td>\n",
       "      <td>950100</td>\n",
       "      <td>140000US01005950100</td>\n",
       "      <td>1005950100</td>\n",
       "      <td>1005950100</td>\n",
       "      <td>Barbour County</td>\n",
       "      <td>Alabama</td>\n",
       "      <td>AL</td>\n",
       "      <td>Census Tract 9501; Barbour County; Alabama</td>\n",
       "      <td>...</td>\n",
       "      <td>NaN</td>\n",
       "      <td>NaN</td>\n",
       "      <td>NaN</td>\n",
       "      <td>NaN</td>\n",
       "      <td>NaN</td>\n",
       "      <td>NaN</td>\n",
       "      <td>NaN</td>\n",
       "      <td>NaN</td>\n",
       "      <td>NaN</td>\n",
       "      <td>NaN</td>\n",
       "    </tr>\n",
       "  </tbody>\n",
       "</table>\n",
       "<p>5 rows × 221 columns</p>\n",
       "</div>"
      ],
      "text/plain": [
       "   STATEFP  COUNTYFP  TRACTCE             AFFGEOID       GEOID  GEOID_2020  \\\n",
       "0        1         1    20804  140000US01001020804  1001020804  1001020804   \n",
       "1        1         3    10706  140000US01003010706  1003010706  1003010706   \n",
       "2        1         3    11503  140000US01003011503  1003011503  1003011503   \n",
       "3        1         3    11604  140000US01003011604  1003011604  1003011604   \n",
       "4        1         5   950100  140000US01005950100  1005950100  1005950100   \n",
       "\n",
       "         COUNTY_x StateDesc STATEABBR  \\\n",
       "0  Autauga County   Alabama        AL   \n",
       "1  Baldwin County   Alabama        AL   \n",
       "2  Baldwin County   Alabama        AL   \n",
       "3  Baldwin County   Alabama        AL   \n",
       "4  Barbour County   Alabama        AL   \n",
       "\n",
       "                                       LOCATION  ...  State_y  \\\n",
       "0  Census Tract 208.04; Autauga County; Alabama  ...      NaN   \n",
       "1  Census Tract 107.06; Baldwin County; Alabama  ...      NaN   \n",
       "2  Census Tract 115.03; Baldwin County; Alabama  ...      NaN   \n",
       "3  Census Tract 116.04; Baldwin County; Alabama  ...      NaN   \n",
       "4    Census Tract 9501; Barbour County; Alabama  ...      NaN   \n",
       "\n",
       "   Assistance Listing   Program  Investment Category  Website Url  \\\n",
       "0                 NaN       NaN                  NaN          NaN   \n",
       "1                 NaN       NaN                  NaN          NaN   \n",
       "2                 NaN       NaN                  NaN          NaN   \n",
       "3                 NaN       NaN                  NaN          NaN   \n",
       "4                 NaN       NaN                  NaN          NaN   \n",
       "\n",
       "   Announcement Url  Data Extract Date  STATE_y  COUNTY  TRACT_y  \n",
       "0               NaN                NaN      NaN     NaN      NaN  \n",
       "1               NaN                NaN      NaN     NaN      NaN  \n",
       "2               NaN                NaN      NaN     NaN      NaN  \n",
       "3               NaN                NaN      NaN     NaN      NaN  \n",
       "4               NaN                NaN      NaN     NaN      NaN  \n",
       "\n",
       "[5 rows x 221 columns]"
      ]
     },
     "execution_count": 196,
     "metadata": {},
     "output_type": "execute_result"
    }
   ],
   "source": [
    "grants_merged.head()"
   ]
  },
  {
   "cell_type": "code",
   "execution_count": 197,
   "id": "3303d400-ed9c-47e3-a60d-aa0275d0aff4",
   "metadata": {},
   "outputs": [
    {
     "data": {
      "text/plain": [
       "Investment Category\n",
       "Water Investments         1897\n",
       "Air Investments           1427\n",
       "Land Investments           939\n",
       "Protecting Communities     448\n",
       "Climate Action             390\n",
       "Name: count, dtype: int64"
      ]
     },
     "execution_count": 197,
     "metadata": {},
     "output_type": "execute_result"
    }
   ],
   "source": [
    "grants_merged['Investment Category'].value_counts()"
   ]
  },
  {
   "cell_type": "code",
   "execution_count": 198,
   "id": "7f5669c6-40b2-4334-bf42-ddfa6c5a55ac",
   "metadata": {},
   "outputs": [],
   "source": [
    "category_map = {\n",
    "    \"Water Investments\": 1,\n",
    "    \"Air Investments\": 2,\n",
    "    \"Land Investments\": 3,\n",
    "    \"Protecting Communities\": 4,\n",
    "    \"Climate Action\": 5\n",
    "}\n",
    "\n",
    "# Create a new column 'Mapped Value' based on the category map\n",
    "grants_merged['investment_category_number'] = grants_merged['Investment Category'].map(category_map)"
   ]
  },
  {
   "cell_type": "code",
   "execution_count": 199,
   "id": "ade47b20-989a-4903-af1c-008bd30422ac",
   "metadata": {},
   "outputs": [],
   "source": [
    "grants_merged['investment_category_number'] = grants_merged['investment_category_number'].fillna(0)"
   ]
  },
  {
   "cell_type": "code",
   "execution_count": 200,
   "id": "a9413470-d84c-4bd4-b537-28d134a924b8",
   "metadata": {},
   "outputs": [
    {
     "data": {
      "text/plain": [
       "3714"
      ]
     },
     "execution_count": 200,
     "metadata": {},
     "output_type": "execute_result"
    }
   ],
   "source": [
    "grants_merged['Project Title'].nunique()"
   ]
  },
  {
   "cell_type": "code",
   "execution_count": 201,
   "id": "eeba0bac-2a03-4909-9478-774236701bbb",
   "metadata": {},
   "outputs": [
    {
     "data": {
      "text/plain": [
       "5002"
      ]
     },
     "execution_count": 201,
     "metadata": {},
     "output_type": "execute_result"
    }
   ],
   "source": [
    "grants_merged[grants_merged['Project Title'].notna()].shape[0]"
   ]
  },
  {
   "cell_type": "markdown",
   "id": "b6e06ae8-a80e-4e42-bd55-98d9aa5877e5",
   "metadata": {},
   "source": [
    "### It also deleted some projects here - what's not being included in the EJI dataset? "
   ]
  },
  {
   "cell_type": "code",
   "execution_count": 202,
   "id": "f33b9240-56a4-4659-b72b-c161ec4a085b",
   "metadata": {},
   "outputs": [],
   "source": [
    "grants_merged['EJI_project'] = grants_merged['Project Title'].notna().astype(int)"
   ]
  },
  {
   "cell_type": "code",
   "execution_count": 203,
   "id": "0570d750-437b-437c-ae4d-b94e11ebbe9b",
   "metadata": {
    "scrolled": true
   },
   "outputs": [
    {
     "data": {
      "text/plain": [
       "EJI_project\n",
       "0    85904\n",
       "1     5002\n",
       "Name: count, dtype: int64"
      ]
     },
     "execution_count": 203,
     "metadata": {},
     "output_type": "execute_result"
    }
   ],
   "source": [
    "grants_merged['EJI_project'].value_counts()"
   ]
  },
  {
   "cell_type": "code",
   "execution_count": 204,
   "id": "1aa68920-f3a4-40a9-a191-0816b672c318",
   "metadata": {},
   "outputs": [
    {
     "data": {
      "text/plain": [
       "contains_energy_source\n",
       "0    80670\n",
       "1    10236\n",
       "Name: count, dtype: int64"
      ]
     },
     "execution_count": 204,
     "metadata": {},
     "output_type": "execute_result"
    }
   ],
   "source": [
    "grants_merged['contains_energy_source'].value_counts()"
   ]
  },
  {
   "cell_type": "code",
   "execution_count": 205,
   "id": "eeee1961-975a-4957-8081-ba9335fd4d2f",
   "metadata": {},
   "outputs": [],
   "source": [
    "grants_merged['plant_and_project'] = (\n",
    "    ((grants_merged['EJI_project'] == 1) & (grants_merged['contains_energy_source'] == 1))\n",
    "    .astype(int)\n",
    ")"
   ]
  },
  {
   "cell_type": "code",
   "execution_count": 206,
   "id": "a05891dc-18e7-4732-a561-8a196e71b78a",
   "metadata": {},
   "outputs": [
    {
     "data": {
      "text/plain": [
       "plant_and_project\n",
       "0    89263\n",
       "1     1643\n",
       "Name: count, dtype: int64"
      ]
     },
     "execution_count": 206,
     "metadata": {},
     "output_type": "execute_result"
    }
   ],
   "source": [
    "grants_merged['plant_and_project'].value_counts()"
   ]
  },
  {
   "cell_type": "markdown",
   "id": "ef87723d-e9a3-4e76-963c-fbeb9302da85",
   "metadata": {},
   "source": [
    "### About 16% of EJI projects are located in communities that contain power plants (both renewable and fossil fuels)"
   ]
  },
  {
   "cell_type": "code",
   "execution_count": 207,
   "id": "0bd6d786-dfdd-4610-8cc2-87b712d00a48",
   "metadata": {},
   "outputs": [
    {
     "data": {
      "text/plain": [
       "(1643, 224)"
      ]
     },
     "execution_count": 207,
     "metadata": {},
     "output_type": "execute_result"
    }
   ],
   "source": [
    "grants_merged[grants_merged['plant_and_project'] == 1].shape"
   ]
  },
  {
   "cell_type": "code",
   "execution_count": 208,
   "id": "6593cada-d98a-433a-9c2f-7f71b6217e24",
   "metadata": {},
   "outputs": [
    {
     "data": {
      "text/plain": [
       "Investment Category\n",
       "Water Investments         579\n",
       "Air Investments           455\n",
       "Land Investments          339\n",
       "Protecting Communities    158\n",
       "Climate Action            112\n",
       "Name: count, dtype: int64"
      ]
     },
     "execution_count": 208,
     "metadata": {},
     "output_type": "execute_result"
    }
   ],
   "source": [
    "grants_merged[grants_merged['plant_and_project'] == 1]['Investment Category'].value_counts()"
   ]
  },
  {
   "cell_type": "code",
   "execution_count": 209,
   "id": "7a07776e-1bd4-4ed7-b9d6-5fa7a84119dc",
   "metadata": {},
   "outputs": [
    {
     "data": {
      "text/plain": [
       "(320, 224)"
      ]
     },
     "execution_count": 209,
     "metadata": {},
     "output_type": "execute_result"
    }
   ],
   "source": [
    "grants_merged[(grants_merged['plant_and_project'] == 1) & (grants_merged['fossil_fuels'] == 1)].shape"
   ]
  },
  {
   "cell_type": "code",
   "execution_count": 210,
   "id": "38587781-e982-452a-b160-d0f453580681",
   "metadata": {},
   "outputs": [
    {
     "data": {
      "text/plain": [
       "(1160, 224)"
      ]
     },
     "execution_count": 210,
     "metadata": {},
     "output_type": "execute_result"
    }
   ],
   "source": [
    "grants_merged[(grants_merged['plant_and_project'] == 1) & (grants_merged['renewables'] == 1)].shape"
   ]
  },
  {
   "cell_type": "code",
   "execution_count": 211,
   "id": "4c54f4e6-1f4a-400b-856f-d6ada7b2f1b4",
   "metadata": {},
   "outputs": [
    {
     "data": {
      "text/plain": [
       "Category_Number\n",
       "1    764\n",
       "2    241\n",
       "3    195\n",
       "5    167\n",
       "4    128\n",
       "7     64\n",
       "6     46\n",
       "8     33\n",
       "9      5\n",
       "Name: count, dtype: int64"
      ]
     },
     "execution_count": 211,
     "metadata": {},
     "output_type": "execute_result"
    }
   ],
   "source": [
    "grants_merged[grants_merged['plant_and_project'] == 1]['Category_Number'].value_counts()"
   ]
  },
  {
   "cell_type": "code",
   "execution_count": 212,
   "id": "c619cf54-4a3d-46c9-9049-9e277150f566",
   "metadata": {},
   "outputs": [],
   "source": [
    "# Count where plant_and_project == 1\n",
    "plant_and_project_counts = grants_merged[grants_merged['plant_and_project'] == 1]['Category_Number'].value_counts()\n",
    "\n",
    "# Total count in each Category_Number\n",
    "total_counts = grants_merged['Category_Number'].value_counts()\n",
    "\n",
    "# Calculate the proportion\n",
    "proportions = (plant_and_project_counts / total_counts).sort_index()\n"
   ]
  },
  {
   "cell_type": "code",
   "execution_count": 213,
   "id": "ed3888a7-7494-4217-8b83-451b1311582a",
   "metadata": {},
   "outputs": [
    {
     "data": {
      "text/plain": [
       "Category_Number\n",
       "0         NaN\n",
       "1    0.172655\n",
       "2    0.180389\n",
       "3    0.187320\n",
       "4    0.115419\n",
       "5    0.141886\n",
       "6    0.079174\n",
       "7    0.164948\n",
       "8    0.242647\n",
       "9    0.116279\n",
       "Name: count, dtype: float64"
      ]
     },
     "execution_count": 213,
     "metadata": {},
     "output_type": "execute_result"
    }
   ],
   "source": [
    "proportions"
   ]
  },
  {
   "cell_type": "markdown",
   "id": "27780cab-507a-47d1-b2cc-7f286d7ac788",
   "metadata": {},
   "source": [
    "### A greater proportion of EJI are located in communities that host coal. Followed by natural gas, wind, solar and biomass. In terms of absolute numbers, solar comes first, followed by natural gas and then wind (mostly b/c these energy sources are more ubiquitous) "
   ]
  },
  {
   "cell_type": "code",
   "execution_count": 214,
   "id": "2845cea5-3abb-4aad-89ba-13227c7dc5c5",
   "metadata": {},
   "outputs": [
    {
     "data": {
      "text/plain": [
       "Investment Category\n",
       "Water Investments         113\n",
       "Air Investments            85\n",
       "Land Investments           65\n",
       "Protecting Communities     36\n",
       "Climate Action             21\n",
       "Name: count, dtype: int64"
      ]
     },
     "execution_count": 214,
     "metadata": {},
     "output_type": "execute_result"
    }
   ],
   "source": [
    "grants_merged[(grants_merged['plant_and_project'] == 1) & (grants_merged['fossil_fuels'] == 1)]['Investment Category'].value_counts()"
   ]
  },
  {
   "cell_type": "code",
   "execution_count": 215,
   "id": "9d5d7f29-4925-4f15-a085-a95f637154ea",
   "metadata": {},
   "outputs": [
    {
     "data": {
      "text/plain": [
       "StateDesc\n",
       "New York                                        236\n",
       "Pennsylvania                                    207\n",
       "Michigan                                        181\n",
       "New Mexico                                      177\n",
       "Massachusetts                                   165\n",
       "Florida                                         161\n",
       "Iowa                                            159\n",
       "Wisconsin                                       147\n",
       "North Carolina                                  147\n",
       "Maine                                           146\n",
       "Virginia                                        144\n",
       "Illinois                                        144\n",
       "Missouri                                        141\n",
       "Oregon                                          139\n",
       "Minnesota                                       138\n",
       "Washington                                      133\n",
       "Oklahoma                                        125\n",
       "New Jersey                                      125\n",
       "Georgia                                         121\n",
       "Texas                                           120\n",
       "Nevada                                          120\n",
       "Ohio                                            116\n",
       "Maryland                                        115\n",
       "Indiana                                         102\n",
       "South Carolina                                   99\n",
       "Idaho                                            97\n",
       "Nebraska                                         95\n",
       "Montana                                          94\n",
       "Louisiana                                        89\n",
       "New Hampshire                                    88\n",
       "Vermont                                          85\n",
       "Kansas                                           69\n",
       "Tennessee                                        67\n",
       "Delaware                                         67\n",
       "Kentucky                                         64\n",
       "Mississippi                                      63\n",
       "Rhode Island                                     62\n",
       "District of Columbia                             61\n",
       "West Virginia                                    60\n",
       "Utah                                             58\n",
       "North Dakota                                     56\n",
       "South Dakota                                     51\n",
       "Hawaii                                           48\n",
       "Puerto Rico                                      44\n",
       "Wyoming                                          38\n",
       "United States Virgin Islands                     11\n",
       "Guam                                             10\n",
       "Commonwealth of the Northern Mariana Islands      9\n",
       "American Samoa                                    8\n",
       "Name: count, dtype: int64"
      ]
     },
     "execution_count": 215,
     "metadata": {},
     "output_type": "execute_result"
    }
   ],
   "source": [
    "grants_merged[grants_merged['Project Title'].notna()]['StateDesc'].value_counts()"
   ]
  },
  {
   "cell_type": "markdown",
   "id": "6658747a-c542-4834-b91d-c9f35d65b426",
   "metadata": {},
   "source": [
    "## New York seems to have the most environmental justice projects"
   ]
  },
  {
   "cell_type": "code",
   "execution_count": 216,
   "id": "c796b8e5-265b-4361-88e3-ebb556215d5f",
   "metadata": {},
   "outputs": [
    {
     "data": {
      "text/plain": [
       "Investment Category\n",
       "Water Investments         87\n",
       "Air Investments           59\n",
       "Land Investments          59\n",
       "Protecting Communities    16\n",
       "Climate Action            15\n",
       "Name: count, dtype: int64"
      ]
     },
     "execution_count": 216,
     "metadata": {},
     "output_type": "execute_result"
    }
   ],
   "source": [
    "grants_merged[(grants_merged['Project Title'].notna()) & (grants_merged['StateDesc'] == 'New York')]['Investment Category'].value_counts()"
   ]
  },
  {
   "cell_type": "code",
   "execution_count": 217,
   "id": "ee7a713e-cd1f-4772-80f7-0e45965a27c2",
   "metadata": {},
   "outputs": [],
   "source": [
    "ny = grants_merged[grants_merged['StateDesc'] == 'New York']"
   ]
  },
  {
   "cell_type": "code",
   "execution_count": 245,
   "id": "dc236ab8-5824-4862-8364-ea154ad05b2e",
   "metadata": {},
   "outputs": [
    {
     "data": {
      "text/plain": [
       "Category_Number\n",
       "1    56\n",
       "2    10\n",
       "3     7\n",
       "5     7\n",
       "4     7\n",
       "7     5\n",
       "6     3\n",
       "8     2\n",
       "Name: count, dtype: int64"
      ]
     },
     "execution_count": 245,
     "metadata": {},
     "output_type": "execute_result"
    }
   ],
   "source": [
    "ny[ny['plant_and_project'] == 1]['Category_Number'].value_counts()"
   ]
  },
  {
   "cell_type": "code",
   "execution_count": null,
   "id": "85c5e3e8-d2a9-4489-ae5f-97d9cdc9b99e",
   "metadata": {},
   "outputs": [],
   "source": []
  },
  {
   "cell_type": "code",
   "execution_count": 251,
   "id": "296be65f-2136-4e7f-bb9a-9e09a9a14bd5",
   "metadata": {},
   "outputs": [
    {
     "data": {
      "text/plain": [
       "StateDesc\n",
       "New Mexico       24\n",
       "Maine             3\n",
       "Massachusetts     2\n",
       "New York          2\n",
       "Michigan          1\n",
       "North Dakota      1\n",
       "Name: count, dtype: int64"
      ]
     },
     "execution_count": 251,
     "metadata": {},
     "output_type": "execute_result"
    }
   ],
   "source": [
    "grants_merged[(grants_merged['Project Title'].notna()) & (grants_merged['Category_Number'] == 8)]['StateDesc'].value_counts()   "
   ]
  },
  {
   "cell_type": "code",
   "execution_count": 264,
   "id": "a35ea480-5828-4b0a-ace7-f97dd43c97a3",
   "metadata": {},
   "outputs": [
    {
     "data": {
      "text/plain": [
       "90906"
      ]
     },
     "execution_count": 264,
     "metadata": {},
     "output_type": "execute_result"
    }
   ],
   "source": [
    "grants_merged.shape[0]"
   ]
  },
  {
   "cell_type": "code",
   "execution_count": 265,
   "id": "672c64e6-7377-45aa-9149-05f6f01e8105",
   "metadata": {},
   "outputs": [
    {
     "data": {
      "text/plain": [
       "20904"
      ]
     },
     "execution_count": 265,
     "metadata": {},
     "output_type": "execute_result"
    }
   ],
   "source": [
    "grants_merged[grants_merged['E_AIAN'] > 0.25].shape[0] "
   ]
  },
  {
   "cell_type": "code",
   "execution_count": 266,
   "id": "6fa41726-9e41-4328-adb6-205e2e35af9b",
   "metadata": {},
   "outputs": [],
   "source": [
    "aian = grants_merged[grants_merged['E_AIAN'] > 0.25]"
   ]
  },
  {
   "cell_type": "code",
   "execution_count": 268,
   "id": "f61ab843-763c-41c3-8e37-ec9e1cd9a28a",
   "metadata": {},
   "outputs": [
    {
     "data": {
      "text/plain": [
       "EJI_project\n",
       "0    85904\n",
       "1     5002\n",
       "Name: count, dtype: int64"
      ]
     },
     "execution_count": 268,
     "metadata": {},
     "output_type": "execute_result"
    }
   ],
   "source": [
    "grants_merged['EJI_project'].value_counts()"
   ]
  },
  {
   "cell_type": "code",
   "execution_count": 267,
   "id": "dd298dc2-c35f-48b2-ab5c-86538bc6a95b",
   "metadata": {},
   "outputs": [
    {
     "data": {
      "text/plain": [
       "EJI_project\n",
       "0    19157\n",
       "1     1747\n",
       "Name: count, dtype: int64"
      ]
     },
     "execution_count": 267,
     "metadata": {},
     "output_type": "execute_result"
    }
   ],
   "source": [
    "aian['EJI_project'].value_counts()"
   ]
  },
  {
   "cell_type": "code",
   "execution_count": 270,
   "id": "437862b8-f732-4170-96e3-f7ee26d89ebc",
   "metadata": {},
   "outputs": [
    {
     "data": {
      "text/plain": [
       "StateDesc\n",
       "Iowa                    128\n",
       "Oklahoma                121\n",
       "Minnesota               115\n",
       "Nevada                  109\n",
       "Michigan                 98\n",
       "Montana                  88\n",
       "Idaho                    70\n",
       "Washington               68\n",
       "Oregon                   67\n",
       "Florida                  57\n",
       "Texas                    54\n",
       "Maine                    51\n",
       "North Dakota             51\n",
       "Kansas                   50\n",
       "South Dakota             49\n",
       "Wisconsin                48\n",
       "New York                 46\n",
       "North Carolina           45\n",
       "Missouri                 38\n",
       "Wyoming                  38\n",
       "Utah                     34\n",
       "West Virginia            33\n",
       "Rhode Island             33\n",
       "New Mexico               26\n",
       "Georgia                  24\n",
       "New Jersey               23\n",
       "Louisiana                20\n",
       "Massachusetts            19\n",
       "Nebraska                 16\n",
       "Illinois                 16\n",
       "Ohio                     15\n",
       "Pennsylvania             14\n",
       "Vermont                  13\n",
       "Tennessee                12\n",
       "Mississippi              10\n",
       "South Carolina           10\n",
       "Virginia                 10\n",
       "Maryland                  9\n",
       "Indiana                   6\n",
       "Kentucky                  5\n",
       "New Hampshire             5\n",
       "Delaware                  2\n",
       "District of Columbia      1\n",
       "Name: count, dtype: int64"
      ]
     },
     "execution_count": 270,
     "metadata": {},
     "output_type": "execute_result"
    }
   ],
   "source": [
    "aian[aian['EJI_project'] == 1]['StateDesc'].value_counts()"
   ]
  },
  {
   "cell_type": "code",
   "execution_count": 272,
   "id": "864458f7-7bd7-41a9-a44e-05326d15bf9a",
   "metadata": {},
   "outputs": [
    {
     "data": {
      "text/plain": [
       "StateDesc\n",
       "Iowa              121\n",
       "Nevada             96\n",
       "Florida            44\n",
       "Minnesota          42\n",
       "Wyoming            35\n",
       "Utah               30\n",
       "Idaho              29\n",
       "Rhode Island       27\n",
       "Oregon             25\n",
       "Oklahoma           23\n",
       "Maine              20\n",
       "Washington         20\n",
       "North Dakota       15\n",
       "New York           15\n",
       "North Carolina     15\n",
       "Missouri           14\n",
       "Michigan           13\n",
       "New Jersey         11\n",
       "Wisconsin          10\n",
       "Texas              10\n",
       "Georgia             9\n",
       "Montana             9\n",
       "Massachusetts       7\n",
       "Nebraska            6\n",
       "Vermont             6\n",
       "Kansas              5\n",
       "South Dakota        4\n",
       "Pennsylvania        3\n",
       "Louisiana           2\n",
       "Indiana             2\n",
       "South Carolina      2\n",
       "New Mexico          2\n",
       "Illinois            2\n",
       "Tennessee           1\n",
       "Ohio                1\n",
       "Mississippi         1\n",
       "Name: count, dtype: int64"
      ]
     },
     "execution_count": 272,
     "metadata": {},
     "output_type": "execute_result"
    }
   ],
   "source": [
    "aian[aian['plant_and_project'] == 1]['StateDesc'].value_counts()"
   ]
  },
  {
   "cell_type": "code",
   "execution_count": 273,
   "id": "fd111bd0-11c5-457d-b6c1-de4dc688258a",
   "metadata": {},
   "outputs": [
    {
     "data": {
      "text/plain": [
       "Category_Number\n",
       "1    305\n",
       "3    107\n",
       "2     89\n",
       "4     67\n",
       "7     44\n",
       "5     42\n",
       "6     18\n",
       "9      4\n",
       "8      1\n",
       "Name: count, dtype: int64"
      ]
     },
     "execution_count": 273,
     "metadata": {},
     "output_type": "execute_result"
    }
   ],
   "source": [
    "aian[aian['plant_and_project'] == 1]['Category_Number'].value_counts()"
   ]
  },
  {
   "cell_type": "code",
   "execution_count": null,
   "id": "3f19682d-525a-4d25-bb88-baffd55b73b3",
   "metadata": {},
   "outputs": [],
   "source": []
  },
  {
   "cell_type": "code",
   "execution_count": null,
   "id": "69430ccb-f89e-4a66-b62a-d0ba58002af3",
   "metadata": {},
   "outputs": [],
   "source": []
  },
  {
   "cell_type": "markdown",
   "id": "be5a0676-48c0-4bfe-b683-2f84f67bead5",
   "metadata": {},
   "source": [
    "### New Mexico has the most EJI projects in coal-producing communities"
   ]
  },
  {
   "cell_type": "code",
   "execution_count": 253,
   "id": "69057398-230a-455d-a6eb-7fcd2dce8cd3",
   "metadata": {},
   "outputs": [],
   "source": [
    "pd.set_option('display.max_columns', None)"
   ]
  },
  {
   "cell_type": "code",
   "execution_count": 255,
   "id": "65813740-2f69-43a9-b954-d438538bfedf",
   "metadata": {},
   "outputs": [],
   "source": [
    "nm_coal = grants_merged[(grants_merged['Project Title'].notna()) & (grants_merged['Category_Number'] == 8)]"
   ]
  },
  {
   "cell_type": "code",
   "execution_count": 256,
   "id": "8ff86cd2-708b-4e5f-9f11-9ffd241d56d1",
   "metadata": {},
   "outputs": [],
   "source": [
    "nm_coal.to_csv('newmexico_coal.csv', index=False)"
   ]
  },
  {
   "cell_type": "code",
   "execution_count": null,
   "id": "44e6cebd-2414-4cb1-8a56-5db7ea293ce9",
   "metadata": {},
   "outputs": [],
   "source": []
  },
  {
   "cell_type": "code",
   "execution_count": null,
   "id": "0c9ab761-4673-408e-9a08-194bda1d3f02",
   "metadata": {},
   "outputs": [],
   "source": []
  },
  {
   "cell_type": "code",
   "execution_count": null,
   "id": "2c500c0d-ef45-432c-8c39-a18c3d1a8a29",
   "metadata": {},
   "outputs": [],
   "source": []
  },
  {
   "cell_type": "markdown",
   "id": "7124f81d-ba14-45a3-b549-fedc0c5e8da1",
   "metadata": {},
   "source": [
    "### The highest number are related to water"
   ]
  },
  {
   "cell_type": "code",
   "execution_count": 218,
   "id": "780c0a88-cb43-4047-9dcc-9ccbdc20a33f",
   "metadata": {},
   "outputs": [
    {
     "data": {
      "text/plain": [
       "StateDesc\n",
       "New Mexico        146\n",
       "Iowa              136\n",
       "Nevada            101\n",
       "New York           97\n",
       "Oregon             82\n",
       "Nebraska           78\n",
       "Massachusetts      58\n",
       "Florida            55\n",
       "Minnesota          54\n",
       "New Jersey         48\n",
       "Delaware           48\n",
       "Idaho              47\n",
       "Wisconsin          47\n",
       "Illinois           45\n",
       "Vermont            44\n",
       "Georgia            44\n",
       "Rhode Island       43\n",
       "North Carolina     42\n",
       "Maine              41\n",
       "Wyoming            35\n",
       "Maryland           33\n",
       "Utah               33\n",
       "Missouri           33\n",
       "Pennsylvania       25\n",
       "Oklahoma           24\n",
       "Washington         23\n",
       "Michigan           22\n",
       "Indiana            20\n",
       "South Carolina     20\n",
       "Texas              18\n",
       "North Dakota       17\n",
       "Virginia           13\n",
       "New Hampshire      13\n",
       "Ohio               11\n",
       "Kansas             11\n",
       "Hawaii             10\n",
       "Montana             9\n",
       "Louisiana           6\n",
       "South Dakota        4\n",
       "Puerto Rico         3\n",
       "Mississippi         2\n",
       "Kentucky            1\n",
       "Tennessee           1\n",
       "Name: count, dtype: int64"
      ]
     },
     "execution_count": 218,
     "metadata": {},
     "output_type": "execute_result"
    }
   ],
   "source": [
    "grants_merged[grants_merged['plant_and_project'] == 1]['StateDesc'].value_counts()"
   ]
  },
  {
   "cell_type": "code",
   "execution_count": 230,
   "id": "ed96a659-a1dc-4c42-af5b-9dd202621238",
   "metadata": {},
   "outputs": [
    {
     "name": "stdout",
     "output_type": "stream",
     "text": [
      "\n",
      "Call:\n",
      "glm(formula = EJI_project ~ factor(Category_Number), family = \"binomial\", \n",
      "    data = grants_merged)\n",
      "\n",
      "Coefficients:\n",
      "                         Estimate Std. Error  z value Pr(>|z|)    \n",
      "(Intercept)              -3.13619    0.01763 -177.940  < 2e-16 ***\n",
      "factor(Category_Number)1  1.56927    0.04351   36.071  < 2e-16 ***\n",
      "factor(Category_Number)2  1.62248    0.07330   22.134  < 2e-16 ***\n",
      "factor(Category_Number)3  1.66867    0.08137   20.508  < 2e-16 ***\n",
      "factor(Category_Number)4  1.09965    0.09562   11.501  < 2e-16 ***\n",
      "factor(Category_Number)5  1.33648    0.08537   15.654  < 2e-16 ***\n",
      "factor(Category_Number)6  0.68257    0.15466    4.413 1.02e-05 ***\n",
      "factor(Category_Number)7  1.51433    0.13792   10.980  < 2e-16 ***\n",
      "factor(Category_Number)8  1.99797    0.20080    9.950  < 2e-16 ***\n",
      "factor(Category_Number)9  1.10804    0.47605    2.328   0.0199 *  \n",
      "---\n",
      "Signif. codes:  0 ‘***’ 0.001 ‘**’ 0.01 ‘*’ 0.05 ‘.’ 0.1 ‘ ’ 1\n",
      "\n",
      "(Dispersion parameter for binomial family taken to be 1)\n",
      "\n",
      "    Null deviance: 38735  on 90905  degrees of freedom\n",
      "Residual deviance: 36873  on 90896  degrees of freedom\n",
      "AIC: 36893\n",
      "\n",
      "Number of Fisher Scoring iterations: 6\n",
      "\n"
     ]
    }
   ],
   "source": [
    "%%R -i grants_merged\n",
    "logistic <- glm(EJI_project ~ factor(Category_Number), data=grants_merged, family=\"binomial\")\n",
    "summary(logistic)\n"
   ]
  },
  {
   "cell_type": "code",
   "execution_count": 231,
   "id": "ed41a053-f9b7-49da-aeee-4b3861bf5b75",
   "metadata": {},
   "outputs": [
    {
     "name": "stdout",
     "output_type": "stream",
     "text": [
      "  McFadden \n",
      "0.04806804 \n"
     ]
    }
   ],
   "source": [
    "%%R\n",
    "\n",
    "PseudoR2(logistic, which=\"McFadden\")"
   ]
  },
  {
   "cell_type": "markdown",
   "id": "6230da08-80dd-4b8d-9c5d-d0952ae59a30",
   "metadata": {},
   "source": [
    "### Having a power plant is associated with having an EJI project. Most in coal producing communities, followed by natural gas and wind"
   ]
  },
  {
   "cell_type": "code",
   "execution_count": 232,
   "id": "f3f2600a-735e-4ea9-9e94-9a5485a3ecd1",
   "metadata": {},
   "outputs": [
    {
     "name": "stdout",
     "output_type": "stream",
     "text": [
      "             (Intercept) factor(Category_Number)1 factor(Category_Number)2 \n",
      "              0.04344789               4.80313636               5.06563869 \n",
      "factor(Category_Number)3 factor(Category_Number)4 factor(Category_Number)5 \n",
      "              5.30512395               3.00311698               3.80562844 \n",
      "factor(Category_Number)6 factor(Category_Number)7 factor(Category_Number)8 \n",
      "              1.97895235               4.54638542               7.37408267 \n",
      "factor(Category_Number)9 \n",
      "              3.02843108 \n"
     ]
    }
   ],
   "source": [
    "%%R\n",
    "\n",
    "exp(coef(logistic))"
   ]
  },
  {
   "cell_type": "code",
   "execution_count": 222,
   "id": "864f0e9f-279f-4bd0-857b-8601d2039eab",
   "metadata": {},
   "outputs": [],
   "source": [
    "### EJI projects have greater odds of being in a tract with "
   ]
  },
  {
   "cell_type": "code",
   "execution_count": 233,
   "id": "d476517e-dc8b-46de-917e-295f5d5a5003",
   "metadata": {},
   "outputs": [
    {
     "name": "stdout",
     "output_type": "stream",
     "text": [
      "\n",
      "Call:\n",
      "glm(formula = EJI_project ~ E_AFAM, family = \"binomial\", data = grants_merged)\n",
      "\n",
      "Coefficients:\n",
      "              Estimate Std. Error  z value Pr(>|z|)    \n",
      "(Intercept) -2.7897901  0.0172468 -161.757  < 2e-16 ***\n",
      "E_AFAM      -0.0050421  0.0008043   -6.269 3.64e-10 ***\n",
      "---\n",
      "Signif. codes:  0 ‘***’ 0.001 ‘**’ 0.01 ‘*’ 0.05 ‘.’ 0.1 ‘ ’ 1\n",
      "\n",
      "(Dispersion parameter for binomial family taken to be 1)\n",
      "\n",
      "    Null deviance: 37586  on 88597  degrees of freedom\n",
      "Residual deviance: 37544  on 88596  degrees of freedom\n",
      "  (2308 observations deleted due to missingness)\n",
      "AIC: 37548\n",
      "\n",
      "Number of Fisher Scoring iterations: 5\n",
      "\n"
     ]
    }
   ],
   "source": [
    "%%R -i grants_merged\n",
    "logistic <- glm(EJI_project ~ E_AFAM, data=grants_merged, family=\"binomial\")\n",
    "summary(logistic)"
   ]
  },
  {
   "cell_type": "code",
   "execution_count": 234,
   "id": "ffdef6dc-d02d-4341-a10c-7e63783fd528",
   "metadata": {},
   "outputs": [
    {
     "name": "stdout",
     "output_type": "stream",
     "text": [
      "   McFadden \n",
      "0.001125637 \n"
     ]
    }
   ],
   "source": [
    "%%R\n",
    "\n",
    "PseudoR2(logistic, which=\"McFadden\")"
   ]
  },
  {
   "cell_type": "code",
   "execution_count": 235,
   "id": "625a4a56-158b-4d78-9339-3a68723a8b50",
   "metadata": {},
   "outputs": [
    {
     "name": "stdout",
     "output_type": "stream",
     "text": [
      "(Intercept)      E_AFAM \n",
      "  0.0614341   0.9949706 \n"
     ]
    }
   ],
   "source": [
    "%%R\n",
    "\n",
    "exp(coef(logistic))"
   ]
  },
  {
   "cell_type": "code",
   "execution_count": 236,
   "id": "7e8d85b4-9007-4fe5-9a0d-d222e95907d9",
   "metadata": {},
   "outputs": [
    {
     "name": "stdout",
     "output_type": "stream",
     "text": [
      "\n",
      "Call:\n",
      "glm(formula = EJI_project ~ E_POV200, family = \"binomial\", data = grants_merged)\n",
      "\n",
      "Coefficients:\n",
      "              Estimate Std. Error  z value Pr(>|z|)    \n",
      "(Intercept) -3.0643205  0.0302264 -101.379   <2e-16 ***\n",
      "E_POV200     0.0067765  0.0008131    8.334   <2e-16 ***\n",
      "---\n",
      "Signif. codes:  0 ‘***’ 0.001 ‘**’ 0.01 ‘*’ 0.05 ‘.’ 0.1 ‘ ’ 1\n",
      "\n",
      "(Dispersion parameter for binomial family taken to be 1)\n",
      "\n",
      "    Null deviance: 37454  on 88382  degrees of freedom\n",
      "Residual deviance: 37386  on 88381  degrees of freedom\n",
      "  (2523 observations deleted due to missingness)\n",
      "AIC: 37390\n",
      "\n",
      "Number of Fisher Scoring iterations: 5\n",
      "\n"
     ]
    }
   ],
   "source": [
    "%%R -i grants_merged\n",
    "logistic <- glm(EJI_project ~ E_POV200, data=grants_merged, family=\"binomial\")\n",
    "summary(logistic)"
   ]
  },
  {
   "cell_type": "code",
   "execution_count": 237,
   "id": "f682273f-7af3-4355-84ba-ae47208b669b",
   "metadata": {},
   "outputs": [
    {
     "name": "stdout",
     "output_type": "stream",
     "text": [
      "   McFadden \n",
      "0.001812823 \n"
     ]
    }
   ],
   "source": [
    "%%R\n",
    "\n",
    "PseudoR2(logistic, which=\"McFadden\")"
   ]
  },
  {
   "cell_type": "code",
   "execution_count": 238,
   "id": "cfebecf6-4977-4f7e-9c18-66c94dabf9f0",
   "metadata": {},
   "outputs": [
    {
     "name": "stdout",
     "output_type": "stream",
     "text": [
      "(Intercept)    E_POV200 \n",
      " 0.04668555  1.00679948 \n"
     ]
    }
   ],
   "source": [
    "%%R\n",
    "\n",
    "exp(coef(logistic))"
   ]
  },
  {
   "cell_type": "code",
   "execution_count": 239,
   "id": "40a11edc-1de2-415d-b3d8-57e403cdfb8b",
   "metadata": {},
   "outputs": [
    {
     "name": "stdout",
     "output_type": "stream",
     "text": [
      "\n",
      "Call:\n",
      "glm(formula = EJI_project ~ E_IMPWTR, family = \"binomial\", data = grants_merged)\n",
      "\n",
      "Coefficients:\n",
      "            Estimate Std. Error z value Pr(>|z|)    \n",
      "(Intercept) -2.55203    0.02241 -113.90   <2e-16 ***\n",
      "E_IMPWTR    -0.66034    0.04088  -16.15   <2e-16 ***\n",
      "---\n",
      "Signif. codes:  0 ‘***’ 0.001 ‘**’ 0.01 ‘*’ 0.05 ‘.’ 0.1 ‘ ’ 1\n",
      "\n",
      "(Dispersion parameter for binomial family taken to be 1)\n",
      "\n",
      "    Null deviance: 37794  on 89123  degrees of freedom\n",
      "Residual deviance: 37526  on 89122  degrees of freedom\n",
      "  (1782 observations deleted due to missingness)\n",
      "AIC: 37530\n",
      "\n",
      "Number of Fisher Scoring iterations: 5\n",
      "\n"
     ]
    }
   ],
   "source": [
    "%%R -i grants_merged\n",
    "logistic <- glm(EJI_project ~ E_IMPWTR, data=grants_merged, family=\"binomial\")\n",
    "summary(logistic)"
   ]
  },
  {
   "cell_type": "code",
   "execution_count": 240,
   "id": "c1685928-d068-4f34-a113-acfab1f329cd",
   "metadata": {},
   "outputs": [
    {
     "name": "stdout",
     "output_type": "stream",
     "text": [
      "   McFadden \n",
      "0.007083341 \n"
     ]
    }
   ],
   "source": [
    "%%R\n",
    "\n",
    "PseudoR2(logistic, which=\"McFadden\")"
   ]
  },
  {
   "cell_type": "code",
   "execution_count": 241,
   "id": "8b03c2e8-e2e0-4879-828f-81969e87a392",
   "metadata": {},
   "outputs": [
    {
     "name": "stdout",
     "output_type": "stream",
     "text": [
      "(Intercept)    E_IMPWTR \n",
      " 0.07792326  0.51667603 \n"
     ]
    }
   ],
   "source": [
    "%%R\n",
    "\n",
    "exp(coef(logistic))"
   ]
  },
  {
   "cell_type": "code",
   "execution_count": 258,
   "id": "7f3bc57c-1a0a-4648-9c45-8ef7b68fd592",
   "metadata": {},
   "outputs": [
    {
     "name": "stdout",
     "output_type": "stream",
     "text": [
      "\n",
      "Call:\n",
      "glm(formula = EJI_project ~ E_AIAN, family = \"binomial\", data = grants_merged)\n",
      "\n",
      "Coefficients:\n",
      "             Estimate Std. Error z value Pr(>|z|)    \n",
      "(Intercept) -2.901168   0.015140 -191.62   <2e-16 ***\n",
      "E_AIAN       0.039706   0.001597   24.87   <2e-16 ***\n",
      "---\n",
      "Signif. codes:  0 ‘***’ 0.001 ‘**’ 0.01 ‘*’ 0.05 ‘.’ 0.1 ‘ ’ 1\n",
      "\n",
      "(Dispersion parameter for binomial family taken to be 1)\n",
      "\n",
      "    Null deviance: 37586  on 88597  degrees of freedom\n",
      "Residual deviance: 37047  on 88596  degrees of freedom\n",
      "  (2308 observations deleted due to missingness)\n",
      "AIC: 37051\n",
      "\n",
      "Number of Fisher Scoring iterations: 5\n",
      "\n"
     ]
    }
   ],
   "source": [
    "%%R -i df\n",
    "logistic <- glm(EJI_project ~ E_AIAN, data=grants_merged, family=\"binomial\")\n",
    "summary(logistic)"
   ]
  },
  {
   "cell_type": "code",
   "execution_count": 261,
   "id": "786bed34-6a4a-44cf-b91d-0813a7547c21",
   "metadata": {},
   "outputs": [
    {
     "name": "stdout",
     "output_type": "stream",
     "text": [
      "    McFadden \n",
      "0.0004307282 \n"
     ]
    }
   ],
   "source": [
    "%%R\n",
    "\n",
    "PseudoR2(logistic, which=\"McFadden\")"
   ]
  },
  {
   "cell_type": "markdown",
   "id": "ead54df8-8f69-4c41-aba4-d3a515adff9d",
   "metadata": {},
   "source": [
    "### EJI projects are slightly correlated native american and alaska native communities "
   ]
  },
  {
   "cell_type": "code",
   "execution_count": 259,
   "id": "42064986-b826-43f3-a27c-106a11465ab5",
   "metadata": {},
   "outputs": [
    {
     "name": "stdout",
     "output_type": "stream",
     "text": [
      "(Intercept)      E_AIAN \n",
      " 0.05495898  1.04050454 \n"
     ]
    }
   ],
   "source": [
    "%%R\n",
    "\n",
    "exp(coef(logistic))"
   ]
  },
  {
   "cell_type": "code",
   "execution_count": 260,
   "id": "64537b1d-11e0-4a41-92fe-af326231089c",
   "metadata": {},
   "outputs": [
    {
     "name": "stdout",
     "output_type": "stream",
     "text": [
      "\n",
      "Call:\n",
      "glm(formula = fossil_fuels ~ E_AIAN, family = \"binomial\", data = df)\n",
      "\n",
      "Coefficients:\n",
      "             Estimate Std. Error  z value Pr(>|z|)    \n",
      "(Intercept) -3.848662   0.023990 -160.430  < 2e-16 ***\n",
      "E_AIAN       0.011487   0.003689    3.114  0.00185 ** \n",
      "---\n",
      "Signif. codes:  0 ‘***’ 0.001 ‘**’ 0.01 ‘*’ 0.05 ‘.’ 0.1 ‘ ’ 1\n",
      "\n",
      "(Dispersion parameter for binomial family taken to be 1)\n",
      "\n",
      "    Null deviance: 17588  on 86147  degrees of freedom\n",
      "Residual deviance: 17580  on 86146  degrees of freedom\n",
      "  (2216 observations deleted due to missingness)\n",
      "AIC: 17584\n",
      "\n",
      "Number of Fisher Scoring iterations: 6\n",
      "\n"
     ]
    }
   ],
   "source": [
    "%%R -i df\n",
    "logistic <- glm(fossil_fuels ~ E_AIAN, data=df, family=\"binomial\")\n",
    "summary(logistic)"
   ]
  },
  {
   "cell_type": "code",
   "execution_count": null,
   "id": "5ee64e14-4d69-4c82-902f-eead3edd8293",
   "metadata": {},
   "outputs": [],
   "source": [
    "%%R\n",
    "\n",
    "PseudoR2(logistic, which=\"McFadden\")"
   ]
  }
 ],
 "metadata": {
  "kernelspec": {
   "display_name": "Python 3 (ipykernel)",
   "language": "python",
   "name": "python3"
  },
  "language_info": {
   "codemirror_mode": {
    "name": "ipython",
    "version": 3
   },
   "file_extension": ".py",
   "mimetype": "text/x-python",
   "name": "python",
   "nbconvert_exporter": "python",
   "pygments_lexer": "ipython3",
   "version": "3.12.7"
  }
 },
 "nbformat": 4,
 "nbformat_minor": 5
}
