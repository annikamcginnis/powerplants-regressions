{
 "cells": [
  {
   "cell_type": "markdown",
   "id": "dc7cdea3-df1c-4b2f-a95c-35ff874acc99",
   "metadata": {},
   "source": [
    "# EDA on Waste-to-Energy Projects Nationally"
   ]
  },
  {
   "cell_type": "code",
   "execution_count": 1,
   "id": "eef44d48-a841-4cf2-b447-d4f7e5462e1c",
   "metadata": {},
   "outputs": [],
   "source": [
    "%load_ext rpy2.ipython\n",
    "%load_ext autoreload\n",
    "%autoreload 2\n",
    "\n",
    "%matplotlib inline  \n",
    "from matplotlib import rcParams\n",
    "rcParams['figure.figsize'] = (16, 100)\n",
    "\n",
    "import warnings\n",
    "from rpy2.rinterface import RRuntimeWarning\n",
    "warnings.filterwarnings(\"ignore\") # Ignore all warnings\n",
    "# warnings.filterwarnings(\"ignore\", category=RRuntimeWarning) # Show some warnings\n",
    "\n",
    "import pandas as pd\n",
    "import numpy as np\n",
    "import matplotlib.pyplot as plt\n",
    "from IPython.display import display, HTML"
   ]
  },
  {
   "cell_type": "code",
   "execution_count": 2,
   "id": "63fc7b6a-00a4-48e1-8777-98a02868251c",
   "metadata": {},
   "outputs": [
    {
     "data": {
      "application/javascript": [
       "// Disable auto-scrolling\n",
       "IPython.OutputArea.prototype._should_scroll = function(lines) {\n",
       "    return false;\n",
       "}\n"
      ],
      "text/plain": [
       "<IPython.core.display.Javascript object>"
      ]
     },
     "metadata": {},
     "output_type": "display_data"
    }
   ],
   "source": [
    "%%javascript\n",
    "// Disable auto-scrolling\n",
    "IPython.OutputArea.prototype._should_scroll = function(lines) {\n",
    "    return false;\n",
    "}"
   ]
  },
  {
   "cell_type": "code",
   "execution_count": 3,
   "id": "b2f424aa-bd22-4894-ab6d-07691e6570ca",
   "metadata": {},
   "outputs": [
    {
     "name": "stdout",
     "output_type": "stream",
     "text": [
      "── Attaching core tidyverse packages ──────────────────────── tidyverse 2.0.0 ──\n",
      "✔ dplyr     1.1.4     ✔ readr     2.1.5\n",
      "✔ forcats   1.0.0     ✔ stringr   1.5.1\n",
      "✔ ggplot2   3.5.1     ✔ tibble    3.2.1\n",
      "✔ lubridate 1.9.4     ✔ tidyr     1.3.1\n",
      "✔ purrr     1.0.4     \n",
      "── Conflicts ────────────────────────────────────────── tidyverse_conflicts() ──\n",
      "✖ dplyr::filter() masks stats::filter()\n",
      "✖ dplyr::lag()    masks stats::lag()\n",
      "ℹ Use the conflicted package (<http://conflicted.r-lib.org/>) to force all conflicts to become errors\n"
     ]
    },
    {
     "data": {
      "text/plain": [
       "Loading required package: tidyverse\n",
       "Loading required package: DescTools\n"
      ]
     },
     "metadata": {},
     "output_type": "display_data"
    }
   ],
   "source": [
    "%%R\n",
    "\n",
    "require('tidyverse')\n",
    "require('DescTools')"
   ]
  },
  {
   "cell_type": "code",
   "execution_count": 4,
   "id": "b9302a69-8840-4be7-9978-862a17740185",
   "metadata": {},
   "outputs": [
    {
     "data": {
      "text/html": [
       "<div>\n",
       "<style scoped>\n",
       "    .dataframe tbody tr th:only-of-type {\n",
       "        vertical-align: middle;\n",
       "    }\n",
       "\n",
       "    .dataframe tbody tr th {\n",
       "        vertical-align: top;\n",
       "    }\n",
       "\n",
       "    .dataframe thead th {\n",
       "        text-align: right;\n",
       "    }\n",
       "</style>\n",
       "<table border=\"1\" class=\"dataframe\">\n",
       "  <thead>\n",
       "    <tr style=\"text-align: right;\">\n",
       "      <th></th>\n",
       "      <th>STATEFP</th>\n",
       "      <th>COUNTYFP</th>\n",
       "      <th>TRACTCE</th>\n",
       "      <th>AFFGEOID</th>\n",
       "      <th>GEOID</th>\n",
       "      <th>GEOID_2020</th>\n",
       "      <th>COUNTY_x</th>\n",
       "      <th>StateDesc</th>\n",
       "      <th>STATEABBR</th>\n",
       "      <th>LOCATION</th>\n",
       "      <th>...</th>\n",
       "      <th>latitude</th>\n",
       "      <th>STATE</th>\n",
       "      <th>COUNTY_y</th>\n",
       "      <th>TRACT</th>\n",
       "      <th>contains_energy_source</th>\n",
       "      <th>Technology_Category</th>\n",
       "      <th>Category_Number</th>\n",
       "      <th>fossil_fuels</th>\n",
       "      <th>renewables</th>\n",
       "      <th>energy_category_numeric</th>\n",
       "    </tr>\n",
       "  </thead>\n",
       "  <tbody>\n",
       "    <tr>\n",
       "      <th>0</th>\n",
       "      <td>1</td>\n",
       "      <td>1</td>\n",
       "      <td>20804</td>\n",
       "      <td>140000US01001020804</td>\n",
       "      <td>1001020804</td>\n",
       "      <td>1001020804</td>\n",
       "      <td>Autauga County</td>\n",
       "      <td>Alabama</td>\n",
       "      <td>AL</td>\n",
       "      <td>Census Tract 208.04; Autauga County; Alabama</td>\n",
       "      <td>...</td>\n",
       "      <td>NaN</td>\n",
       "      <td>NaN</td>\n",
       "      <td>NaN</td>\n",
       "      <td>NaN</td>\n",
       "      <td>0</td>\n",
       "      <td>NaN</td>\n",
       "      <td>0</td>\n",
       "      <td>0</td>\n",
       "      <td>0</td>\n",
       "      <td>0.0</td>\n",
       "    </tr>\n",
       "    <tr>\n",
       "      <th>1</th>\n",
       "      <td>1</td>\n",
       "      <td>3</td>\n",
       "      <td>10706</td>\n",
       "      <td>140000US01003010706</td>\n",
       "      <td>1003010706</td>\n",
       "      <td>1003010706</td>\n",
       "      <td>Baldwin County</td>\n",
       "      <td>Alabama</td>\n",
       "      <td>AL</td>\n",
       "      <td>Census Tract 107.06; Baldwin County; Alabama</td>\n",
       "      <td>...</td>\n",
       "      <td>NaN</td>\n",
       "      <td>NaN</td>\n",
       "      <td>NaN</td>\n",
       "      <td>NaN</td>\n",
       "      <td>0</td>\n",
       "      <td>NaN</td>\n",
       "      <td>0</td>\n",
       "      <td>0</td>\n",
       "      <td>0</td>\n",
       "      <td>0.0</td>\n",
       "    </tr>\n",
       "    <tr>\n",
       "      <th>2</th>\n",
       "      <td>1</td>\n",
       "      <td>3</td>\n",
       "      <td>11503</td>\n",
       "      <td>140000US01003011503</td>\n",
       "      <td>1003011503</td>\n",
       "      <td>1003011503</td>\n",
       "      <td>Baldwin County</td>\n",
       "      <td>Alabama</td>\n",
       "      <td>AL</td>\n",
       "      <td>Census Tract 115.03; Baldwin County; Alabama</td>\n",
       "      <td>...</td>\n",
       "      <td>NaN</td>\n",
       "      <td>NaN</td>\n",
       "      <td>NaN</td>\n",
       "      <td>NaN</td>\n",
       "      <td>0</td>\n",
       "      <td>NaN</td>\n",
       "      <td>0</td>\n",
       "      <td>0</td>\n",
       "      <td>0</td>\n",
       "      <td>0.0</td>\n",
       "    </tr>\n",
       "    <tr>\n",
       "      <th>3</th>\n",
       "      <td>1</td>\n",
       "      <td>3</td>\n",
       "      <td>11604</td>\n",
       "      <td>140000US01003011604</td>\n",
       "      <td>1003011604</td>\n",
       "      <td>1003011604</td>\n",
       "      <td>Baldwin County</td>\n",
       "      <td>Alabama</td>\n",
       "      <td>AL</td>\n",
       "      <td>Census Tract 116.04; Baldwin County; Alabama</td>\n",
       "      <td>...</td>\n",
       "      <td>NaN</td>\n",
       "      <td>NaN</td>\n",
       "      <td>NaN</td>\n",
       "      <td>NaN</td>\n",
       "      <td>0</td>\n",
       "      <td>NaN</td>\n",
       "      <td>0</td>\n",
       "      <td>0</td>\n",
       "      <td>0</td>\n",
       "      <td>0.0</td>\n",
       "    </tr>\n",
       "    <tr>\n",
       "      <th>4</th>\n",
       "      <td>1</td>\n",
       "      <td>5</td>\n",
       "      <td>950100</td>\n",
       "      <td>140000US01005950100</td>\n",
       "      <td>1005950100</td>\n",
       "      <td>1005950100</td>\n",
       "      <td>Barbour County</td>\n",
       "      <td>Alabama</td>\n",
       "      <td>AL</td>\n",
       "      <td>Census Tract 9501; Barbour County; Alabama</td>\n",
       "      <td>...</td>\n",
       "      <td>NaN</td>\n",
       "      <td>NaN</td>\n",
       "      <td>NaN</td>\n",
       "      <td>NaN</td>\n",
       "      <td>0</td>\n",
       "      <td>NaN</td>\n",
       "      <td>0</td>\n",
       "      <td>0</td>\n",
       "      <td>0</td>\n",
       "      <td>0.0</td>\n",
       "    </tr>\n",
       "  </tbody>\n",
       "</table>\n",
       "<p>5 rows × 194 columns</p>\n",
       "</div>"
      ],
      "text/plain": [
       "   STATEFP  COUNTYFP  TRACTCE             AFFGEOID       GEOID  GEOID_2020  \\\n",
       "0        1         1    20804  140000US01001020804  1001020804  1001020804   \n",
       "1        1         3    10706  140000US01003010706  1003010706  1003010706   \n",
       "2        1         3    11503  140000US01003011503  1003011503  1003011503   \n",
       "3        1         3    11604  140000US01003011604  1003011604  1003011604   \n",
       "4        1         5   950100  140000US01005950100  1005950100  1005950100   \n",
       "\n",
       "         COUNTY_x StateDesc STATEABBR  \\\n",
       "0  Autauga County   Alabama        AL   \n",
       "1  Baldwin County   Alabama        AL   \n",
       "2  Baldwin County   Alabama        AL   \n",
       "3  Baldwin County   Alabama        AL   \n",
       "4  Barbour County   Alabama        AL   \n",
       "\n",
       "                                       LOCATION  ...  latitude  STATE  \\\n",
       "0  Census Tract 208.04; Autauga County; Alabama  ...       NaN    NaN   \n",
       "1  Census Tract 107.06; Baldwin County; Alabama  ...       NaN    NaN   \n",
       "2  Census Tract 115.03; Baldwin County; Alabama  ...       NaN    NaN   \n",
       "3  Census Tract 116.04; Baldwin County; Alabama  ...       NaN    NaN   \n",
       "4    Census Tract 9501; Barbour County; Alabama  ...       NaN    NaN   \n",
       "\n",
       "   COUNTY_y  TRACT  contains_energy_source  Technology_Category  \\\n",
       "0       NaN    NaN                       0                  NaN   \n",
       "1       NaN    NaN                       0                  NaN   \n",
       "2       NaN    NaN                       0                  NaN   \n",
       "3       NaN    NaN                       0                  NaN   \n",
       "4       NaN    NaN                       0                  NaN   \n",
       "\n",
       "   Category_Number  fossil_fuels  renewables  energy_category_numeric  \n",
       "0                0             0           0                      0.0  \n",
       "1                0             0           0                      0.0  \n",
       "2                0             0           0                      0.0  \n",
       "3                0             0           0                      0.0  \n",
       "4                0             0           0                      0.0  \n",
       "\n",
       "[5 rows x 194 columns]"
      ]
     },
     "execution_count": 4,
     "metadata": {},
     "output_type": "execute_result"
    }
   ],
   "source": [
    "df = pd.read_csv('plants_merged_eji.csv')\n",
    "df.head()"
   ]
  },
  {
   "cell_type": "code",
   "execution_count": 5,
   "id": "e1f0c62d-056e-4640-bb23-a2601ccaa02a",
   "metadata": {},
   "outputs": [
    {
     "data": {
      "text/plain": [
       "(88753, 194)"
      ]
     },
     "execution_count": 5,
     "metadata": {},
     "output_type": "execute_result"
    }
   ],
   "source": [
    "df.shape"
   ]
  },
  {
   "cell_type": "code",
   "execution_count": 6,
   "id": "49fb4dd3-a303-414b-ba5f-e31e5a860559",
   "metadata": {},
   "outputs": [],
   "source": [
    "df['WTE'] = (df['Primary Technology'] == 'Municipal Solid Waste').astype(int)"
   ]
  },
  {
   "cell_type": "code",
   "execution_count": 7,
   "id": "0b8608aa-d7e4-4275-bc1f-74294defc679",
   "metadata": {},
   "outputs": [
    {
     "data": {
      "text/plain": [
       "WTE\n",
       "0    88702\n",
       "1       51\n",
       "Name: count, dtype: int64"
      ]
     },
     "execution_count": 7,
     "metadata": {},
     "output_type": "execute_result"
    }
   ],
   "source": [
    "df['WTE'].value_counts()"
   ]
  },
  {
   "cell_type": "code",
   "execution_count": 9,
   "id": "81c0a6ab-cd62-4e3b-8975-4637a7c90135",
   "metadata": {},
   "outputs": [
    {
     "data": {
      "text/plain": [
       "30.857773999999996"
      ]
     },
     "execution_count": 9,
     "metadata": {},
     "output_type": "execute_result"
    }
   ],
   "source": [
    "df[df['WTE'] == 1]['E_POV200'].mean()"
   ]
  },
  {
   "cell_type": "code",
   "execution_count": 10,
   "id": "a9a2d354-78e6-479e-8304-42b283f57003",
   "metadata": {},
   "outputs": [
    {
     "data": {
      "text/plain": [
       "30.456412145936667"
      ]
     },
     "execution_count": 10,
     "metadata": {},
     "output_type": "execute_result"
    }
   ],
   "source": [
    "df[df['WTE'] == 0]['E_POV200'].mean()"
   ]
  },
  {
   "cell_type": "code",
   "execution_count": 13,
   "id": "db89aad6-d125-4bb5-badf-2ed7458872ed",
   "metadata": {},
   "outputs": [
    {
     "name": "stdout",
     "output_type": "stream",
     "text": [
      "\n",
      "Call:\n",
      "glm(formula = WTE ~ E_POV200 + E_AFAM, family = \"binomial\", data = df)\n",
      "\n",
      "Coefficients:\n",
      "             Estimate Std. Error z value Pr(>|z|)    \n",
      "(Intercept) -7.483465   0.287723 -26.009   <2e-16 ***\n",
      "E_POV200     0.009416   0.008381   1.124   0.2612    \n",
      "E_AFAM      -0.027998   0.012546  -2.232   0.0256 *  \n",
      "---\n",
      "Signif. codes:  0 ‘***’ 0.001 ‘**’ 0.01 ‘*’ 0.05 ‘.’ 0.1 ‘ ’ 1\n",
      "\n",
      "(Dispersion parameter for binomial family taken to be 1)\n",
      "\n",
      "    Null deviance: 845.37  on 86333  degrees of freedom\n",
      "Residual deviance: 838.04  on 86331  degrees of freedom\n",
      "  (2419 observations deleted due to missingness)\n",
      "AIC: 844.04\n",
      "\n",
      "Number of Fisher Scoring iterations: 11\n",
      "\n"
     ]
    }
   ],
   "source": [
    "%%R -i df\n",
    "logistic <- glm(WTE ~ E_POV200 + E_AFAM, data=df, family=\"binomial\")\n",
    "summary(logistic)"
   ]
  },
  {
   "cell_type": "code",
   "execution_count": 12,
   "id": "6e1c58da-f407-4c52-bb58-2db6e184c203",
   "metadata": {},
   "outputs": [
    {
     "name": "stdout",
     "output_type": "stream",
     "text": [
      "    McFadden \n",
      "3.047385e-05 \n"
     ]
    }
   ],
   "source": [
    "%%R\n",
    "\n",
    "PseudoR2(logistic, which=\"McFadden\")"
   ]
  },
  {
   "cell_type": "code",
   "execution_count": 14,
   "id": "4440d671-d48f-465b-a021-f4dafd3af921",
   "metadata": {},
   "outputs": [
    {
     "name": "stdout",
     "output_type": "stream",
     "text": [
      "\n",
      "Call:\n",
      "lm(formula = E_CANCER ~ WTE, data = df)\n",
      "\n",
      "Residuals:\n",
      "    Min      1Q  Median      3Q     Max \n",
      "-7.4845 -1.9845  0.1155  1.7155 19.5155 \n",
      "\n",
      "Coefficients:\n",
      "            Estimate Std. Error t value Pr(>|t|)    \n",
      "(Intercept) 7.984514   0.009124 875.139   <2e-16 ***\n",
      "WTE         0.771486   0.379342   2.034    0.042 *  \n",
      "---\n",
      "Signif. codes:  0 ‘***’ 0.001 ‘**’ 0.01 ‘*’ 0.05 ‘.’ 0.1 ‘ ’ 1\n",
      "\n",
      "Residual standard error: 2.682 on 86433 degrees of freedom\n",
      "  (2318 observations deleted due to missingness)\n",
      "Multiple R-squared:  4.785e-05,\tAdjusted R-squared:  3.628e-05 \n",
      "F-statistic: 4.136 on 1 and 86433 DF,  p-value: 0.04198\n",
      "\n"
     ]
    }
   ],
   "source": [
    "%%R -i df\n",
    "model <- lm(E_CANCER ~ WTE, data=df)\n",
    "summary(model)"
   ]
  },
  {
   "cell_type": "code",
   "execution_count": 18,
   "id": "b069385d-2bf4-4f57-88a5-17a530e40083",
   "metadata": {},
   "outputs": [
    {
     "name": "stdout",
     "output_type": "stream",
     "text": [
      "\n",
      "Call:\n",
      "lm(formula = E_CANCER ~ WTE + E_POV200 + E_AFAM, data = df)\n",
      "\n",
      "Residuals:\n",
      "    Min      1Q  Median      3Q     Max \n",
      "-8.7034 -1.5533  0.0714  1.4029 18.4148 \n",
      "\n",
      "Coefficients:\n",
      "              Estimate Std. Error t value Pr(>|t|)    \n",
      "(Intercept)  9.7565296  0.0160866 606.500   <2e-16 ***\n",
      "WTE          0.5535659  0.3340703   1.657   0.0975 .  \n",
      "E_POV200    -0.0424622  0.0004966 -85.498   <2e-16 ***\n",
      "E_AFAM      -0.0364653  0.0004260 -85.592   <2e-16 ***\n",
      "---\n",
      "Signif. codes:  0 ‘***’ 0.001 ‘**’ 0.01 ‘*’ 0.05 ‘.’ 0.1 ‘ ’ 1\n",
      "\n",
      "Residual standard error: 2.361 on 86244 degrees of freedom\n",
      "  (2505 observations deleted due to missingness)\n",
      "Multiple R-squared:  0.2177,\tAdjusted R-squared:  0.2177 \n",
      "F-statistic:  8001 on 3 and 86244 DF,  p-value: < 2.2e-16\n",
      "\n"
     ]
    }
   ],
   "source": [
    "%%R -i df\n",
    "model <- lm(E_CANCER ~ WTE + E_POV200 + E_AFAM, data=df)\n",
    "summary(model)"
   ]
  },
  {
   "cell_type": "code",
   "execution_count": 19,
   "id": "2d130686-53d6-427d-a06f-4b0d116ced5f",
   "metadata": {},
   "outputs": [
    {
     "name": "stdout",
     "output_type": "stream",
     "text": [
      "\n",
      "Call:\n",
      "lm(formula = E_ASTHMA ~ WTE + E_POV200 + E_AFAM, data = df)\n",
      "\n",
      "Residuals:\n",
      "    Min      1Q  Median      3Q     Max \n",
      "-6.2367 -0.7134 -0.0243  0.7056  6.5458 \n",
      "\n",
      "Coefficients:\n",
      "             Estimate Std. Error  t value Pr(>|t|)    \n",
      "(Intercept) 9.1144408  0.0075042 1214.579   <2e-16 ***\n",
      "WTE         0.0158129  0.1558395    0.101    0.919    \n",
      "E_POV200    0.0442228  0.0002317  190.880   <2e-16 ***\n",
      "E_AFAM      0.0133309  0.0001987   67.077   <2e-16 ***\n",
      "---\n",
      "Signif. codes:  0 ‘***’ 0.001 ‘**’ 0.01 ‘*’ 0.05 ‘.’ 0.1 ‘ ’ 1\n",
      "\n",
      "Residual standard error: 1.102 on 86244 degrees of freedom\n",
      "  (2505 observations deleted due to missingness)\n",
      "Multiple R-squared:  0.4105,\tAdjusted R-squared:  0.4105 \n",
      "F-statistic: 2.002e+04 on 3 and 86244 DF,  p-value: < 2.2e-16\n",
      "\n"
     ]
    }
   ],
   "source": [
    "%%R -i df\n",
    "model <- lm(E_ASTHMA ~ WTE + E_POV200 + E_AFAM, data=df)\n",
    "summary(model)"
   ]
  },
  {
   "cell_type": "code",
   "execution_count": 20,
   "id": "23d4f97f-11fc-4454-9991-aa2eaccc9ed0",
   "metadata": {},
   "outputs": [
    {
     "name": "stdout",
     "output_type": "stream",
     "text": [
      "\n",
      "Call:\n",
      "lm(formula = E_TOTCR ~ WTE + E_POV200 + E_AFAM, data = df)\n",
      "\n",
      "Residuals:\n",
      "   Min     1Q Median     3Q    Max \n",
      "-18.55  -4.32  -3.71   5.41 375.77 \n",
      "\n",
      "Coefficients:\n",
      "             Estimate Std. Error t value Pr(>|t|)    \n",
      "(Intercept) 24.299156   0.054671 444.459  < 2e-16 ***\n",
      "WTE         -4.446491   1.137824  -3.908 9.32e-05 ***\n",
      "E_POV200    -0.013186   0.001686  -7.823 5.23e-15 ***\n",
      "E_AFAM       0.112808   0.001450  77.819  < 2e-16 ***\n",
      "---\n",
      "Signif. codes:  0 ‘***’ 0.001 ‘**’ 0.01 ‘*’ 0.05 ‘.’ 0.1 ‘ ’ 1\n",
      "\n",
      "Residual standard error: 8.043 on 86323 degrees of freedom\n",
      "  (2426 observations deleted due to missingness)\n",
      "Multiple R-squared:  0.07172,\tAdjusted R-squared:  0.07169 \n",
      "F-statistic:  2223 on 3 and 86323 DF,  p-value: < 2.2e-16\n",
      "\n"
     ]
    }
   ],
   "source": [
    "%%R -i df\n",
    "model <- lm(E_TOTCR ~ WTE + E_POV200 + E_AFAM, data=df)\n",
    "summary(model)"
   ]
  },
  {
   "cell_type": "code",
   "execution_count": 22,
   "id": "7b2a0799-5027-42ec-8c9c-e0743c4faf6d",
   "metadata": {},
   "outputs": [
    {
     "name": "stdout",
     "output_type": "stream",
     "text": [
      "\n",
      "Call:\n",
      "lm(formula = E_PM ~ WTE, data = df)\n",
      "\n",
      "Residuals:\n",
      "    Min      1Q  Median      3Q     Max \n",
      "-0.3036 -0.3036 -0.3036 -0.1666  9.6364 \n",
      "\n",
      "Coefficients:\n",
      "             Estimate Std. Error t value Pr(>|t|)    \n",
      "(Intercept)  0.303647   0.002646  114.77   <2e-16 ***\n",
      "WTE         -0.184765   0.109303   -1.69    0.091 .  \n",
      "---\n",
      "Signif. codes:  0 ‘***’ 0.001 ‘**’ 0.01 ‘*’ 0.05 ‘.’ 0.1 ‘ ’ 1\n",
      "\n",
      "Residual standard error: 0.7804 on 87046 degrees of freedom\n",
      "  (1705 observations deleted due to missingness)\n",
      "Multiple R-squared:  3.283e-05,\tAdjusted R-squared:  2.134e-05 \n",
      "F-statistic: 2.857 on 1 and 87046 DF,  p-value: 0.09096\n",
      "\n"
     ]
    }
   ],
   "source": [
    "%%R -i df\n",
    "model <- lm(E_PM ~ WTE, data=df)\n",
    "summary(model)"
   ]
  },
  {
   "cell_type": "code",
   "execution_count": 21,
   "id": "164d554e-e8bf-4da9-9979-a82739ed0346",
   "metadata": {},
   "outputs": [
    {
     "name": "stdout",
     "output_type": "stream",
     "text": [
      "\n",
      "Call:\n",
      "lm(formula = E_TOTCR ~ fossil_fuels + E_POV200 + E_AFAM, data = df)\n",
      "\n",
      "Residuals:\n",
      "   Min     1Q Median     3Q    Max \n",
      "-18.60  -4.39  -3.62   5.34 375.70 \n",
      "\n",
      "Coefficients:\n",
      "              Estimate Std. Error t value Pr(>|t|)    \n",
      "(Intercept)  24.376583   0.054750 445.232  < 2e-16 ***\n",
      "fossil_fuels -3.313292   0.184083 -17.999  < 2e-16 ***\n",
      "E_POV200     -0.013047   0.001683  -7.754 9.01e-15 ***\n",
      "E_AFAM        0.112068   0.001448  77.414  < 2e-16 ***\n",
      "---\n",
      "Signif. codes:  0 ‘***’ 0.001 ‘**’ 0.01 ‘*’ 0.05 ‘.’ 0.1 ‘ ’ 1\n",
      "\n",
      "Residual standard error: 8.029 on 86323 degrees of freedom\n",
      "  (2426 observations deleted due to missingness)\n",
      "Multiple R-squared:  0.07502,\tAdjusted R-squared:  0.07499 \n",
      "F-statistic:  2334 on 3 and 86323 DF,  p-value: < 2.2e-16\n",
      "\n"
     ]
    }
   ],
   "source": [
    "%%R -i df\n",
    "model <- lm(E_TOTCR ~ fossil_fuels + E_POV200 + E_AFAM, data=df)\n",
    "summary(model)"
   ]
  },
  {
   "cell_type": "code",
   "execution_count": null,
   "id": "ab09c993-a473-4f4a-ba21-b467c43f59ff",
   "metadata": {},
   "outputs": [],
   "source": []
  }
 ],
 "metadata": {
  "kernelspec": {
   "display_name": "Python 3 (ipykernel)",
   "language": "python",
   "name": "python3"
  },
  "language_info": {
   "codemirror_mode": {
    "name": "ipython",
    "version": 3
   },
   "file_extension": ".py",
   "mimetype": "text/x-python",
   "name": "python",
   "nbconvert_exporter": "python",
   "pygments_lexer": "ipython3",
   "version": "3.12.7"
  }
 },
 "nbformat": 4,
 "nbformat_minor": 5
}
